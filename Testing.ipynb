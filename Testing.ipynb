{
 "cells": [
  {
   "cell_type": "code",
   "execution_count": 1,
   "id": "76138d42-c2ae-4557-9e60-bf2aa6dee655",
   "metadata": {},
   "outputs": [],
   "source": [
    "# Importing needed libraries\n",
    "import pandas as pd\n",
    "import numpy as np\n",
    "import pandas as pd\n",
    "import seaborn as sns\n",
    "import matplotlib.pyplot as plt\n",
    "\n",
    "from sklearn.preprocessing import OneHotEncoder\n",
    "from sklearn.pipeline import Pipeline\n",
    "from sklearn.compose import ColumnTransformer\n",
    "from sklearn.preprocessing import StandardScaler, OneHotEncoder \n",
    "from sklearn.metrics import accuracy_score, precision_score, recall_score, f1_score, confusion_matrix, classification_report\n",
    "from sklearn.ensemble import RandomForestClassifier, GradientBoostingClassifier\n",
    "from sklearn.model_selection import train_test_split, GridSearchCV\n",
    "from sklearn.model_selection import train_test_split\n",
    "from sklearn.linear_model import LogisticRegression\n",
    "from sklearn.neural_network import MLPClassifier\n",
    "from imblearn.over_sampling import SMOTE\n",
    "\n",
    "import joblib\n",
    "import pickle\n",
    "from tabulate import tabulate\n",
    "import warnings\n",
    "warnings.filterwarnings(\"ignore\", category=DeprecationWarning)"
   ]
  },
  {
   "cell_type": "code",
   "execution_count": 2,
   "id": "11776108",
   "metadata": {},
   "outputs": [],
   "source": [
    "def predict_from_csv(test_csv_file):\n",
    "    test_df = pd.read_csv(test_csv_file)\n",
    "    test_encoded = pd.get_dummies(test_df, columns=['age', 'gender'], dtype=int)\n",
    "    X_test = test_encoded.drop(['zipMerchant', 'zipcodeOri', 'merchant', 'customer'], axis=1)\n",
    "    starting_time = pd.Timestamp('00:00')\n",
    "    X_test['time_of_day'] = starting_time + pd.to_timedelta(X_test['step'], unit='h')\n",
    "    numerical_features = X_test.select_dtypes(include=['int64', 'float64']).columns\n",
    "    categorical_features = X_test.select_dtypes(include=['object']).columns\n",
    "    numerical_pipeline = Pipeline([('scaler', StandardScaler())])\n",
    "    categorical_pipeline = Pipeline([('onehot', OneHotEncoder())])\n",
    "    preprocessor = ColumnTransformer([('num', numerical_pipeline, numerical_features),('cat', categorical_pipeline, categorical_features)])\n",
    "    X_preprocessed = preprocessor.fit_transform(X_test)\n",
    "    predictions = loaded_model.predict(X_preprocessed)\n",
    "    return predictions"
   ]
  },
  {
   "cell_type": "code",
   "execution_count": 3,
   "id": "e110c1be-85ac-4753-86e7-e30af895ee07",
   "metadata": {},
   "outputs": [
    {
     "name": "stdout",
     "output_type": "stream",
     "text": [
      "[0 0 0 ... 0 0 0]\n"
     ]
    }
   ],
   "source": [
    "# Load the trained Random Forest model\n",
    "with open('random_forest_model_smote.pkl', 'rb') as file:\n",
    "    loaded_model = pickle.load(file)\n",
    "\n",
    "# Provide the path to your test CSV file\n",
    "test_csv_file = 'test.csv'\n",
    "test_predictions = predict_from_csv(test_csv_file)\n",
    "print(test_predictions)"
   ]
  },
  {
   "cell_type": "code",
   "execution_count": 4,
   "id": "4214b888",
   "metadata": {},
   "outputs": [
    {
     "name": "stdout",
     "output_type": "stream",
     "text": [
      "   Value   Count\n",
      "0      0  584655\n",
      "1      1    9988\n"
     ]
    }
   ],
   "source": [
    "import numpy as np\n",
    "unique_values, counts = np.unique(test_predictions, return_counts=True)\n",
    "counts_df = pd.DataFrame({'Value': unique_values, 'Count': counts})\n",
    "print(counts_df)"
   ]
  },
  {
   "cell_type": "code",
   "execution_count": null,
   "id": "3ef18674",
   "metadata": {},
   "outputs": [],
   "source": []
  },
  {
   "cell_type": "code",
   "execution_count": null,
   "id": "8a248bf1",
   "metadata": {},
   "outputs": [],
   "source": []
  }
 ],
 "metadata": {
  "kernelspec": {
   "display_name": "Python 3 (ipykernel)",
   "language": "python",
   "name": "python3"
  },
  "language_info": {
   "codemirror_mode": {
    "name": "ipython",
    "version": 3
   },
   "file_extension": ".py",
   "mimetype": "text/x-python",
   "name": "python",
   "nbconvert_exporter": "python",
   "pygments_lexer": "ipython3",
   "version": "3.9.13"
  }
 },
 "nbformat": 4,
 "nbformat_minor": 5
}
