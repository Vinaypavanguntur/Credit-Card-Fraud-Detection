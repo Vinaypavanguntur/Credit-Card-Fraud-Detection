{
 "cells": [
  {
   "cell_type": "markdown",
   "id": "8787f91c",
   "metadata": {},
   "source": [
    "# CREDIT CARD FRAUDULENT DETECTION"
   ]
  },
  {
   "cell_type": "markdown",
   "id": "6415f85f",
   "metadata": {},
   "source": [
    "### Libraries"
   ]
  },
  {
   "cell_type": "code",
   "execution_count": 1,
   "id": "45854a1f",
   "metadata": {},
   "outputs": [],
   "source": [
    "# Importing needed libraries\n",
    "\n",
    "import pandas as pd\n",
    "import numpy as np\n",
    "import pandas as pd\n",
    "import seaborn as sns\n",
    "import matplotlib.pyplot as plt\n",
    "\n",
    "from sklearn.preprocessing import OneHotEncoder\n",
    "from sklearn.pipeline import Pipeline\n",
    "from sklearn.compose import ColumnTransformer\n",
    "from sklearn.preprocessing import StandardScaler, OneHotEncoder \n",
    "from sklearn.metrics import classification_report, confusion_matrix\n",
    "from sklearn.metrics import classification_report, confusion_matrix, roc_auc_score, roc_curve, precision_recall_curve, average_precision_score\n",
    "from sklearn.metrics import accuracy_score, precision_score, recall_score, f1_score, confusion_matrix, classification_report\n",
    "from sklearn.ensemble import RandomForestClassifier, GradientBoostingClassifier\n",
    "from sklearn.model_selection import train_test_split, GridSearchCV\n",
    "from sklearn.model_selection import train_test_split\n",
    "from sklearn.linear_model import LogisticRegression\n",
    "from sklearn.neural_network import MLPClassifier\n",
    "from imblearn.over_sampling import SMOTE\n",
    "from sklearn.metrics import roc_auc_score, roc_curve\n",
    "\n",
    "import joblib\n",
    "import pickle\n",
    "from tabulate import tabulate\n",
    "import warnings\n",
    "warnings.filterwarnings(\"ignore\", category=DeprecationWarning)"
   ]
  },
  {
   "cell_type": "markdown",
   "id": "fcdcb778",
   "metadata": {},
   "source": [
    "### Dataset"
   ]
  },
  {
   "cell_type": "code",
   "execution_count": 2,
   "id": "08733802",
   "metadata": {},
   "outputs": [
    {
     "name": "stdout",
     "output_type": "stream",
     "text": [
      "Wall time: 1 s\n"
     ]
    }
   ],
   "source": [
    "%%time\n",
    "df = pd.read_csv('fraud.csv')"
   ]
  },
  {
   "cell_type": "code",
   "execution_count": 3,
   "id": "a7b20784",
   "metadata": {},
   "outputs": [
    {
     "data": {
      "text/html": [
       "<div>\n",
       "<style scoped>\n",
       "    .dataframe tbody tr th:only-of-type {\n",
       "        vertical-align: middle;\n",
       "    }\n",
       "\n",
       "    .dataframe tbody tr th {\n",
       "        vertical-align: top;\n",
       "    }\n",
       "\n",
       "    .dataframe thead th {\n",
       "        text-align: right;\n",
       "    }\n",
       "</style>\n",
       "<table border=\"1\" class=\"dataframe\">\n",
       "  <thead>\n",
       "    <tr style=\"text-align: right;\">\n",
       "      <th></th>\n",
       "      <th>step</th>\n",
       "      <th>customer</th>\n",
       "      <th>age</th>\n",
       "      <th>gender</th>\n",
       "      <th>zipcodeOri</th>\n",
       "      <th>merchant</th>\n",
       "      <th>zipMerchant</th>\n",
       "      <th>category</th>\n",
       "      <th>amount</th>\n",
       "      <th>fraud</th>\n",
       "    </tr>\n",
       "  </thead>\n",
       "  <tbody>\n",
       "    <tr>\n",
       "      <th>0</th>\n",
       "      <td>0</td>\n",
       "      <td>'C1093826151'</td>\n",
       "      <td>'4'</td>\n",
       "      <td>'M'</td>\n",
       "      <td>'28007'</td>\n",
       "      <td>'M348934600'</td>\n",
       "      <td>'28007'</td>\n",
       "      <td>'es_transportation'</td>\n",
       "      <td>4.55</td>\n",
       "      <td>0</td>\n",
       "    </tr>\n",
       "    <tr>\n",
       "      <th>1</th>\n",
       "      <td>0</td>\n",
       "      <td>'C352968107'</td>\n",
       "      <td>'2'</td>\n",
       "      <td>'M'</td>\n",
       "      <td>'28007'</td>\n",
       "      <td>'M348934600'</td>\n",
       "      <td>'28007'</td>\n",
       "      <td>'es_transportation'</td>\n",
       "      <td>39.68</td>\n",
       "      <td>0</td>\n",
       "    </tr>\n",
       "    <tr>\n",
       "      <th>2</th>\n",
       "      <td>0</td>\n",
       "      <td>'C2054744914'</td>\n",
       "      <td>'4'</td>\n",
       "      <td>'F'</td>\n",
       "      <td>'28007'</td>\n",
       "      <td>'M1823072687'</td>\n",
       "      <td>'28007'</td>\n",
       "      <td>'es_transportation'</td>\n",
       "      <td>26.89</td>\n",
       "      <td>0</td>\n",
       "    </tr>\n",
       "    <tr>\n",
       "      <th>3</th>\n",
       "      <td>0</td>\n",
       "      <td>'C1760612790'</td>\n",
       "      <td>'3'</td>\n",
       "      <td>'M'</td>\n",
       "      <td>'28007'</td>\n",
       "      <td>'M348934600'</td>\n",
       "      <td>'28007'</td>\n",
       "      <td>'es_transportation'</td>\n",
       "      <td>17.25</td>\n",
       "      <td>0</td>\n",
       "    </tr>\n",
       "    <tr>\n",
       "      <th>4</th>\n",
       "      <td>0</td>\n",
       "      <td>'C757503768'</td>\n",
       "      <td>'5'</td>\n",
       "      <td>'M'</td>\n",
       "      <td>'28007'</td>\n",
       "      <td>'M348934600'</td>\n",
       "      <td>'28007'</td>\n",
       "      <td>'es_transportation'</td>\n",
       "      <td>35.72</td>\n",
       "      <td>0</td>\n",
       "    </tr>\n",
       "    <tr>\n",
       "      <th>...</th>\n",
       "      <td>...</td>\n",
       "      <td>...</td>\n",
       "      <td>...</td>\n",
       "      <td>...</td>\n",
       "      <td>...</td>\n",
       "      <td>...</td>\n",
       "      <td>...</td>\n",
       "      <td>...</td>\n",
       "      <td>...</td>\n",
       "      <td>...</td>\n",
       "    </tr>\n",
       "    <tr>\n",
       "      <th>594638</th>\n",
       "      <td>179</td>\n",
       "      <td>'C1753498738'</td>\n",
       "      <td>'3'</td>\n",
       "      <td>'F'</td>\n",
       "      <td>'28007'</td>\n",
       "      <td>'M1823072687'</td>\n",
       "      <td>'28007'</td>\n",
       "      <td>'es_transportation'</td>\n",
       "      <td>20.53</td>\n",
       "      <td>0</td>\n",
       "    </tr>\n",
       "    <tr>\n",
       "      <th>594639</th>\n",
       "      <td>179</td>\n",
       "      <td>'C650108285'</td>\n",
       "      <td>'4'</td>\n",
       "      <td>'F'</td>\n",
       "      <td>'28007'</td>\n",
       "      <td>'M1823072687'</td>\n",
       "      <td>'28007'</td>\n",
       "      <td>'es_transportation'</td>\n",
       "      <td>50.73</td>\n",
       "      <td>0</td>\n",
       "    </tr>\n",
       "    <tr>\n",
       "      <th>594640</th>\n",
       "      <td>179</td>\n",
       "      <td>'C123623130'</td>\n",
       "      <td>'2'</td>\n",
       "      <td>'F'</td>\n",
       "      <td>'28007'</td>\n",
       "      <td>'M349281107'</td>\n",
       "      <td>'28007'</td>\n",
       "      <td>'es_fashion'</td>\n",
       "      <td>22.44</td>\n",
       "      <td>0</td>\n",
       "    </tr>\n",
       "    <tr>\n",
       "      <th>594641</th>\n",
       "      <td>179</td>\n",
       "      <td>'C1499363341'</td>\n",
       "      <td>'5'</td>\n",
       "      <td>'M'</td>\n",
       "      <td>'28007'</td>\n",
       "      <td>'M1823072687'</td>\n",
       "      <td>'28007'</td>\n",
       "      <td>'es_transportation'</td>\n",
       "      <td>14.46</td>\n",
       "      <td>0</td>\n",
       "    </tr>\n",
       "    <tr>\n",
       "      <th>594642</th>\n",
       "      <td>179</td>\n",
       "      <td>'C616528518'</td>\n",
       "      <td>'4'</td>\n",
       "      <td>'F'</td>\n",
       "      <td>'28007'</td>\n",
       "      <td>'M1823072687'</td>\n",
       "      <td>'28007'</td>\n",
       "      <td>'es_transportation'</td>\n",
       "      <td>26.93</td>\n",
       "      <td>0</td>\n",
       "    </tr>\n",
       "  </tbody>\n",
       "</table>\n",
       "<p>594643 rows × 10 columns</p>\n",
       "</div>"
      ],
      "text/plain": [
       "        step       customer  age gender zipcodeOri       merchant zipMerchant  \\\n",
       "0          0  'C1093826151'  '4'    'M'    '28007'   'M348934600'     '28007'   \n",
       "1          0   'C352968107'  '2'    'M'    '28007'   'M348934600'     '28007'   \n",
       "2          0  'C2054744914'  '4'    'F'    '28007'  'M1823072687'     '28007'   \n",
       "3          0  'C1760612790'  '3'    'M'    '28007'   'M348934600'     '28007'   \n",
       "4          0   'C757503768'  '5'    'M'    '28007'   'M348934600'     '28007'   \n",
       "...      ...            ...  ...    ...        ...            ...         ...   \n",
       "594638   179  'C1753498738'  '3'    'F'    '28007'  'M1823072687'     '28007'   \n",
       "594639   179   'C650108285'  '4'    'F'    '28007'  'M1823072687'     '28007'   \n",
       "594640   179   'C123623130'  '2'    'F'    '28007'   'M349281107'     '28007'   \n",
       "594641   179  'C1499363341'  '5'    'M'    '28007'  'M1823072687'     '28007'   \n",
       "594642   179   'C616528518'  '4'    'F'    '28007'  'M1823072687'     '28007'   \n",
       "\n",
       "                   category  amount  fraud  \n",
       "0       'es_transportation'    4.55      0  \n",
       "1       'es_transportation'   39.68      0  \n",
       "2       'es_transportation'   26.89      0  \n",
       "3       'es_transportation'   17.25      0  \n",
       "4       'es_transportation'   35.72      0  \n",
       "...                     ...     ...    ...  \n",
       "594638  'es_transportation'   20.53      0  \n",
       "594639  'es_transportation'   50.73      0  \n",
       "594640         'es_fashion'   22.44      0  \n",
       "594641  'es_transportation'   14.46      0  \n",
       "594642  'es_transportation'   26.93      0  \n",
       "\n",
       "[594643 rows x 10 columns]"
      ]
     },
     "execution_count": 3,
     "metadata": {},
     "output_type": "execute_result"
    }
   ],
   "source": [
    "df"
   ]
  },
  {
   "cell_type": "code",
   "execution_count": 4,
   "id": "aa61d2da",
   "metadata": {},
   "outputs": [
    {
     "name": "stdout",
     "output_type": "stream",
     "text": [
      "Credit Card Fraud Detection data has -  rows: 594643  columns: 10\n"
     ]
    }
   ],
   "source": [
    "print(\"Credit Card Fraud Detection data has -  rows:\",df.shape[0],\" columns:\", df.shape[1])"
   ]
  },
  {
   "cell_type": "code",
   "execution_count": 5,
   "id": "aa125eff",
   "metadata": {},
   "outputs": [
    {
     "data": {
      "text/html": [
       "<div>\n",
       "<style scoped>\n",
       "    .dataframe tbody tr th:only-of-type {\n",
       "        vertical-align: middle;\n",
       "    }\n",
       "\n",
       "    .dataframe tbody tr th {\n",
       "        vertical-align: top;\n",
       "    }\n",
       "\n",
       "    .dataframe thead th {\n",
       "        text-align: right;\n",
       "    }\n",
       "</style>\n",
       "<table border=\"1\" class=\"dataframe\">\n",
       "  <thead>\n",
       "    <tr style=\"text-align: right;\">\n",
       "      <th></th>\n",
       "      <th>step</th>\n",
       "      <th>amount</th>\n",
       "      <th>fraud</th>\n",
       "    </tr>\n",
       "  </thead>\n",
       "  <tbody>\n",
       "    <tr>\n",
       "      <th>step</th>\n",
       "      <td>1.000000</td>\n",
       "      <td>-0.007961</td>\n",
       "      <td>-0.011898</td>\n",
       "    </tr>\n",
       "    <tr>\n",
       "      <th>amount</th>\n",
       "      <td>-0.007961</td>\n",
       "      <td>1.000000</td>\n",
       "      <td>0.489967</td>\n",
       "    </tr>\n",
       "    <tr>\n",
       "      <th>fraud</th>\n",
       "      <td>-0.011898</td>\n",
       "      <td>0.489967</td>\n",
       "      <td>1.000000</td>\n",
       "    </tr>\n",
       "  </tbody>\n",
       "</table>\n",
       "</div>"
      ],
      "text/plain": [
       "            step    amount     fraud\n",
       "step    1.000000 -0.007961 -0.011898\n",
       "amount -0.007961  1.000000  0.489967\n",
       "fraud  -0.011898  0.489967  1.000000"
      ]
     },
     "execution_count": 5,
     "metadata": {},
     "output_type": "execute_result"
    }
   ],
   "source": [
    "df.corr()"
   ]
  },
  {
   "cell_type": "code",
   "execution_count": 6,
   "id": "881b3343",
   "metadata": {},
   "outputs": [
    {
     "data": {
      "text/html": [
       "<div>\n",
       "<style scoped>\n",
       "    .dataframe tbody tr th:only-of-type {\n",
       "        vertical-align: middle;\n",
       "    }\n",
       "\n",
       "    .dataframe tbody tr th {\n",
       "        vertical-align: top;\n",
       "    }\n",
       "\n",
       "    .dataframe thead th {\n",
       "        text-align: right;\n",
       "    }\n",
       "</style>\n",
       "<table border=\"1\" class=\"dataframe\">\n",
       "  <thead>\n",
       "    <tr style=\"text-align: right;\">\n",
       "      <th></th>\n",
       "      <th>step</th>\n",
       "      <th>amount</th>\n",
       "      <th>fraud</th>\n",
       "    </tr>\n",
       "  </thead>\n",
       "  <tbody>\n",
       "    <tr>\n",
       "      <th>count</th>\n",
       "      <td>594643.000000</td>\n",
       "      <td>594643.000000</td>\n",
       "      <td>594643.000000</td>\n",
       "    </tr>\n",
       "    <tr>\n",
       "      <th>mean</th>\n",
       "      <td>94.986827</td>\n",
       "      <td>37.890135</td>\n",
       "      <td>0.012108</td>\n",
       "    </tr>\n",
       "    <tr>\n",
       "      <th>std</th>\n",
       "      <td>51.053632</td>\n",
       "      <td>111.402831</td>\n",
       "      <td>0.109369</td>\n",
       "    </tr>\n",
       "    <tr>\n",
       "      <th>min</th>\n",
       "      <td>0.000000</td>\n",
       "      <td>0.000000</td>\n",
       "      <td>0.000000</td>\n",
       "    </tr>\n",
       "    <tr>\n",
       "      <th>25%</th>\n",
       "      <td>52.000000</td>\n",
       "      <td>13.740000</td>\n",
       "      <td>0.000000</td>\n",
       "    </tr>\n",
       "    <tr>\n",
       "      <th>50%</th>\n",
       "      <td>97.000000</td>\n",
       "      <td>26.900000</td>\n",
       "      <td>0.000000</td>\n",
       "    </tr>\n",
       "    <tr>\n",
       "      <th>75%</th>\n",
       "      <td>139.000000</td>\n",
       "      <td>42.540000</td>\n",
       "      <td>0.000000</td>\n",
       "    </tr>\n",
       "    <tr>\n",
       "      <th>max</th>\n",
       "      <td>179.000000</td>\n",
       "      <td>8329.960000</td>\n",
       "      <td>1.000000</td>\n",
       "    </tr>\n",
       "  </tbody>\n",
       "</table>\n",
       "</div>"
      ],
      "text/plain": [
       "                step         amount          fraud\n",
       "count  594643.000000  594643.000000  594643.000000\n",
       "mean       94.986827      37.890135       0.012108\n",
       "std        51.053632     111.402831       0.109369\n",
       "min         0.000000       0.000000       0.000000\n",
       "25%        52.000000      13.740000       0.000000\n",
       "50%        97.000000      26.900000       0.000000\n",
       "75%       139.000000      42.540000       0.000000\n",
       "max       179.000000    8329.960000       1.000000"
      ]
     },
     "execution_count": 6,
     "metadata": {},
     "output_type": "execute_result"
    }
   ],
   "source": [
    "df.describe()"
   ]
  },
  {
   "cell_type": "markdown",
   "id": "aaf4c1db",
   "metadata": {},
   "source": [
    "Looking to the **Time (Step) feature,** we can confirm that the data contains **594,643 transactions, during 179 hours.**"
   ]
  },
  {
   "cell_type": "markdown",
   "id": "ff79fcdd",
   "metadata": {},
   "source": [
    "# DATA PREPROCESSING"
   ]
  },
  {
   "cell_type": "markdown",
   "id": "93f59c36",
   "metadata": {},
   "source": [
    "## Checking for missing/null values"
   ]
  },
  {
   "cell_type": "code",
   "execution_count": 7,
   "id": "8e22692e",
   "metadata": {},
   "outputs": [
    {
     "data": {
      "text/plain": [
       "step           0\n",
       "customer       0\n",
       "age            0\n",
       "gender         0\n",
       "zipcodeOri     0\n",
       "merchant       0\n",
       "zipMerchant    0\n",
       "category       0\n",
       "amount         0\n",
       "fraud          0\n",
       "dtype: int64"
      ]
     },
     "execution_count": 7,
     "metadata": {},
     "output_type": "execute_result"
    }
   ],
   "source": [
    "df.isnull().sum()"
   ]
  },
  {
   "cell_type": "code",
   "execution_count": 8,
   "id": "b3addd89",
   "metadata": {},
   "outputs": [
    {
     "data": {
      "text/plain": [
       "175    3774\n",
       "177    3758\n",
       "152    3746\n",
       "178    3743\n",
       "174    3743\n",
       "       ... \n",
       "5      2525\n",
       "3      2499\n",
       "2      2462\n",
       "0      2430\n",
       "1      2424\n",
       "Name: step, Length: 180, dtype: int64"
      ]
     },
     "execution_count": 8,
     "metadata": {},
     "output_type": "execute_result"
    }
   ],
   "source": [
    "df['step'].value_counts()"
   ]
  },
  {
   "cell_type": "code",
   "execution_count": 9,
   "id": "d09c232b",
   "metadata": {},
   "outputs": [
    {
     "data": {
      "text/plain": [
       "'es_transportation'        505119\n",
       "'es_food'                   26254\n",
       "'es_health'                 16133\n",
       "'es_wellnessandbeauty'      15086\n",
       "'es_fashion'                 6454\n",
       "'es_barsandrestaurants'      6373\n",
       "'es_hyper'                   6098\n",
       "'es_sportsandtoys'           4002\n",
       "'es_tech'                    2370\n",
       "'es_home'                    1986\n",
       "'es_hotelservices'           1744\n",
       "'es_otherservices'            912\n",
       "'es_contents'                 885\n",
       "'es_travel'                   728\n",
       "'es_leisure'                  499\n",
       "Name: category, dtype: int64"
      ]
     },
     "execution_count": 9,
     "metadata": {},
     "output_type": "execute_result"
    }
   ],
   "source": [
    "df['category'].value_counts()"
   ]
  },
  {
   "cell_type": "code",
   "execution_count": 10,
   "id": "d816fe61",
   "metadata": {},
   "outputs": [
    {
     "data": {
      "text/plain": [
       "0    587443\n",
       "1      7200\n",
       "Name: fraud, dtype: int64"
      ]
     },
     "execution_count": 10,
     "metadata": {},
     "output_type": "execute_result"
    }
   ],
   "source": [
    "df['fraud'].value_counts()"
   ]
  },
  {
   "cell_type": "markdown",
   "id": "85e65ce3",
   "metadata": {},
   "source": [
    "## Encoding Categorical Variables (age and gender) using one-hot-encoder and Split Target and Features Variables"
   ]
  },
  {
   "cell_type": "markdown",
   "id": "0c15754c",
   "metadata": {},
   "source": [
    "#### One-Hot-Encoding"
   ]
  },
  {
   "cell_type": "code",
   "execution_count": 11,
   "id": "531ec955",
   "metadata": {},
   "outputs": [
    {
     "name": "stdout",
     "output_type": "stream",
     "text": [
      "        step       customer zipcodeOri       merchant zipMerchant  \\\n",
      "0          0  'C1093826151'    '28007'   'M348934600'     '28007'   \n",
      "1          0   'C352968107'    '28007'   'M348934600'     '28007'   \n",
      "2          0  'C2054744914'    '28007'  'M1823072687'     '28007'   \n",
      "3          0  'C1760612790'    '28007'   'M348934600'     '28007'   \n",
      "4          0   'C757503768'    '28007'   'M348934600'     '28007'   \n",
      "...      ...            ...        ...            ...         ...   \n",
      "594638   179  'C1753498738'    '28007'  'M1823072687'     '28007'   \n",
      "594639   179   'C650108285'    '28007'  'M1823072687'     '28007'   \n",
      "594640   179   'C123623130'    '28007'   'M349281107'     '28007'   \n",
      "594641   179  'C1499363341'    '28007'  'M1823072687'     '28007'   \n",
      "594642   179   'C616528518'    '28007'  'M1823072687'     '28007'   \n",
      "\n",
      "                   category  amount  fraud  age_'0'  age_'1'  age_'2'  \\\n",
      "0       'es_transportation'    4.55      0        0        0        0   \n",
      "1       'es_transportation'   39.68      0        0        0        1   \n",
      "2       'es_transportation'   26.89      0        0        0        0   \n",
      "3       'es_transportation'   17.25      0        0        0        0   \n",
      "4       'es_transportation'   35.72      0        0        0        0   \n",
      "...                     ...     ...    ...      ...      ...      ...   \n",
      "594638  'es_transportation'   20.53      0        0        0        0   \n",
      "594639  'es_transportation'   50.73      0        0        0        0   \n",
      "594640         'es_fashion'   22.44      0        0        0        1   \n",
      "594641  'es_transportation'   14.46      0        0        0        0   \n",
      "594642  'es_transportation'   26.93      0        0        0        0   \n",
      "\n",
      "        age_'3'  age_'4'  age_'5'  age_'6'  age_'U'  gender_'E'  gender_'F'  \\\n",
      "0             0        1        0        0        0           0           0   \n",
      "1             0        0        0        0        0           0           0   \n",
      "2             0        1        0        0        0           0           1   \n",
      "3             1        0        0        0        0           0           0   \n",
      "4             0        0        1        0        0           0           0   \n",
      "...         ...      ...      ...      ...      ...         ...         ...   \n",
      "594638        1        0        0        0        0           0           1   \n",
      "594639        0        1        0        0        0           0           1   \n",
      "594640        0        0        0        0        0           0           1   \n",
      "594641        0        0        1        0        0           0           0   \n",
      "594642        0        1        0        0        0           0           1   \n",
      "\n",
      "        gender_'M'  gender_'U'  \n",
      "0                1           0  \n",
      "1                1           0  \n",
      "2                0           0  \n",
      "3                1           0  \n",
      "4                1           0  \n",
      "...            ...         ...  \n",
      "594638           0           0  \n",
      "594639           0           0  \n",
      "594640           0           0  \n",
      "594641           1           0  \n",
      "594642           0           0  \n",
      "\n",
      "[594643 rows x 20 columns]\n"
     ]
    }
   ],
   "source": [
    "df_encoded = pd.get_dummies(df, columns=['age', 'gender'] ,dtype=int)\n",
    "print(df_encoded)"
   ]
  },
  {
   "cell_type": "markdown",
   "id": "ba4bb8d1",
   "metadata": {},
   "source": [
    "## Split target and feature variables (x and y respectively)"
   ]
  },
  {
   "cell_type": "code",
   "execution_count": 12,
   "id": "ed9e1ddb",
   "metadata": {},
   "outputs": [],
   "source": [
    "X = df_encoded.drop(['fraud', 'zipMerchant', 'zipcodeOri', 'merchant', 'customer'], axis=1)\n",
    "y = df_encoded['fraud']"
   ]
  },
  {
   "cell_type": "code",
   "execution_count": 13,
   "id": "3bf6acd6",
   "metadata": {},
   "outputs": [
    {
     "data": {
      "text/plain": [
       "step             int64\n",
       "customer        object\n",
       "zipcodeOri      object\n",
       "merchant        object\n",
       "zipMerchant     object\n",
       "category        object\n",
       "amount         float64\n",
       "fraud            int64\n",
       "age_'0'          int32\n",
       "age_'1'          int32\n",
       "age_'2'          int32\n",
       "age_'3'          int32\n",
       "age_'4'          int32\n",
       "age_'5'          int32\n",
       "age_'6'          int32\n",
       "age_'U'          int32\n",
       "gender_'E'       int32\n",
       "gender_'F'       int32\n",
       "gender_'M'       int32\n",
       "gender_'U'       int32\n",
       "dtype: object"
      ]
     },
     "execution_count": 13,
     "metadata": {},
     "output_type": "execute_result"
    }
   ],
   "source": [
    "df_encoded.dtypes"
   ]
  },
  {
   "cell_type": "code",
   "execution_count": 14,
   "id": "36e3ea63",
   "metadata": {},
   "outputs": [
    {
     "data": {
      "text/html": [
       "<div>\n",
       "<style scoped>\n",
       "    .dataframe tbody tr th:only-of-type {\n",
       "        vertical-align: middle;\n",
       "    }\n",
       "\n",
       "    .dataframe tbody tr th {\n",
       "        vertical-align: top;\n",
       "    }\n",
       "\n",
       "    .dataframe thead th {\n",
       "        text-align: right;\n",
       "    }\n",
       "</style>\n",
       "<table border=\"1\" class=\"dataframe\">\n",
       "  <thead>\n",
       "    <tr style=\"text-align: right;\">\n",
       "      <th></th>\n",
       "      <th>step</th>\n",
       "      <th>amount</th>\n",
       "      <th>fraud</th>\n",
       "      <th>age_'0'</th>\n",
       "      <th>age_'1'</th>\n",
       "      <th>age_'2'</th>\n",
       "      <th>age_'3'</th>\n",
       "      <th>age_'4'</th>\n",
       "      <th>age_'5'</th>\n",
       "      <th>age_'6'</th>\n",
       "      <th>age_'U'</th>\n",
       "      <th>gender_'E'</th>\n",
       "      <th>gender_'F'</th>\n",
       "      <th>gender_'M'</th>\n",
       "      <th>gender_'U'</th>\n",
       "    </tr>\n",
       "  </thead>\n",
       "  <tbody>\n",
       "    <tr>\n",
       "      <th>step</th>\n",
       "      <td>1.000000</td>\n",
       "      <td>-0.007961</td>\n",
       "      <td>-0.011898</td>\n",
       "      <td>0.006282</td>\n",
       "      <td>-0.003370</td>\n",
       "      <td>-0.003110</td>\n",
       "      <td>0.004930</td>\n",
       "      <td>0.002233</td>\n",
       "      <td>-0.003717</td>\n",
       "      <td>0.000143</td>\n",
       "      <td>0.003669</td>\n",
       "      <td>0.003669</td>\n",
       "      <td>0.000294</td>\n",
       "      <td>-0.000452</td>\n",
       "      <td>-0.002874</td>\n",
       "    </tr>\n",
       "    <tr>\n",
       "      <th>amount</th>\n",
       "      <td>-0.007961</td>\n",
       "      <td>1.000000</td>\n",
       "      <td>0.489967</td>\n",
       "      <td>0.005033</td>\n",
       "      <td>-0.001061</td>\n",
       "      <td>0.002851</td>\n",
       "      <td>-0.000054</td>\n",
       "      <td>0.001324</td>\n",
       "      <td>-0.004509</td>\n",
       "      <td>-0.001997</td>\n",
       "      <td>-0.000505</td>\n",
       "      <td>-0.000505</td>\n",
       "      <td>0.013018</td>\n",
       "      <td>-0.012880</td>\n",
       "      <td>-0.001686</td>\n",
       "    </tr>\n",
       "    <tr>\n",
       "      <th>fraud</th>\n",
       "      <td>-0.011898</td>\n",
       "      <td>0.489967</td>\n",
       "      <td>1.000000</td>\n",
       "      <td>0.004394</td>\n",
       "      <td>-0.000769</td>\n",
       "      <td>0.002517</td>\n",
       "      <td>-0.000943</td>\n",
       "      <td>0.003573</td>\n",
       "      <td>-0.003630</td>\n",
       "      <td>-0.004685</td>\n",
       "      <td>-0.002512</td>\n",
       "      <td>-0.002512</td>\n",
       "      <td>0.025575</td>\n",
       "      <td>-0.025172</td>\n",
       "      <td>-0.003259</td>\n",
       "    </tr>\n",
       "    <tr>\n",
       "      <th>age_'0'</th>\n",
       "      <td>0.006282</td>\n",
       "      <td>0.005033</td>\n",
       "      <td>0.004394</td>\n",
       "      <td>1.000000</td>\n",
       "      <td>-0.021181</td>\n",
       "      <td>-0.043635</td>\n",
       "      <td>-0.036896</td>\n",
       "      <td>-0.030489</td>\n",
       "      <td>-0.022080</td>\n",
       "      <td>-0.013972</td>\n",
       "      <td>-0.002867</td>\n",
       "      <td>-0.002867</td>\n",
       "      <td>0.027337</td>\n",
       "      <td>-0.026984</td>\n",
       "      <td>-0.001894</td>\n",
       "    </tr>\n",
       "    <tr>\n",
       "      <th>age_'1'</th>\n",
       "      <td>-0.003370</td>\n",
       "      <td>-0.001061</td>\n",
       "      <td>-0.000769</td>\n",
       "      <td>-0.021181</td>\n",
       "      <td>1.000000</td>\n",
       "      <td>-0.223213</td>\n",
       "      <td>-0.188740</td>\n",
       "      <td>-0.155966</td>\n",
       "      <td>-0.112951</td>\n",
       "      <td>-0.071474</td>\n",
       "      <td>-0.014665</td>\n",
       "      <td>-0.014665</td>\n",
       "      <td>0.012592</td>\n",
       "      <td>-0.012741</td>\n",
       "      <td>0.024573</td>\n",
       "    </tr>\n",
       "    <tr>\n",
       "      <th>age_'2'</th>\n",
       "      <td>-0.003110</td>\n",
       "      <td>0.002851</td>\n",
       "      <td>0.002517</td>\n",
       "      <td>-0.043635</td>\n",
       "      <td>-0.223213</td>\n",
       "      <td>1.000000</td>\n",
       "      <td>-0.388826</td>\n",
       "      <td>-0.321308</td>\n",
       "      <td>-0.232692</td>\n",
       "      <td>-0.147244</td>\n",
       "      <td>-0.030212</td>\n",
       "      <td>-0.030212</td>\n",
       "      <td>0.018305</td>\n",
       "      <td>-0.015628</td>\n",
       "      <td>0.000219</td>\n",
       "    </tr>\n",
       "    <tr>\n",
       "      <th>age_'3'</th>\n",
       "      <td>0.004930</td>\n",
       "      <td>-0.000054</td>\n",
       "      <td>-0.000943</td>\n",
       "      <td>-0.036896</td>\n",
       "      <td>-0.188740</td>\n",
       "      <td>-0.388826</td>\n",
       "      <td>1.000000</td>\n",
       "      <td>-0.271685</td>\n",
       "      <td>-0.196755</td>\n",
       "      <td>-0.124504</td>\n",
       "      <td>-0.025546</td>\n",
       "      <td>-0.025546</td>\n",
       "      <td>-0.014670</td>\n",
       "      <td>0.016604</td>\n",
       "      <td>0.006038</td>\n",
       "    </tr>\n",
       "    <tr>\n",
       "      <th>age_'4'</th>\n",
       "      <td>0.002233</td>\n",
       "      <td>0.001324</td>\n",
       "      <td>0.003573</td>\n",
       "      <td>-0.030489</td>\n",
       "      <td>-0.155966</td>\n",
       "      <td>-0.321308</td>\n",
       "      <td>-0.271685</td>\n",
       "      <td>1.000000</td>\n",
       "      <td>-0.162589</td>\n",
       "      <td>-0.102884</td>\n",
       "      <td>-0.021110</td>\n",
       "      <td>-0.021110</td>\n",
       "      <td>-0.007520</td>\n",
       "      <td>0.010234</td>\n",
       "      <td>-0.013950</td>\n",
       "    </tr>\n",
       "    <tr>\n",
       "      <th>age_'5'</th>\n",
       "      <td>-0.003717</td>\n",
       "      <td>-0.004509</td>\n",
       "      <td>-0.003630</td>\n",
       "      <td>-0.022080</td>\n",
       "      <td>-0.112951</td>\n",
       "      <td>-0.232692</td>\n",
       "      <td>-0.196755</td>\n",
       "      <td>-0.162589</td>\n",
       "      <td>1.000000</td>\n",
       "      <td>-0.074509</td>\n",
       "      <td>-0.015288</td>\n",
       "      <td>-0.015288</td>\n",
       "      <td>-0.000989</td>\n",
       "      <td>0.002953</td>\n",
       "      <td>-0.010103</td>\n",
       "    </tr>\n",
       "    <tr>\n",
       "      <th>age_'6'</th>\n",
       "      <td>0.000143</td>\n",
       "      <td>-0.001997</td>\n",
       "      <td>-0.004685</td>\n",
       "      <td>-0.013972</td>\n",
       "      <td>-0.071474</td>\n",
       "      <td>-0.147244</td>\n",
       "      <td>-0.124504</td>\n",
       "      <td>-0.102884</td>\n",
       "      <td>-0.074509</td>\n",
       "      <td>1.000000</td>\n",
       "      <td>-0.009674</td>\n",
       "      <td>-0.009674</td>\n",
       "      <td>-0.010989</td>\n",
       "      <td>0.012237</td>\n",
       "      <td>-0.006393</td>\n",
       "    </tr>\n",
       "    <tr>\n",
       "      <th>age_'U'</th>\n",
       "      <td>0.003669</td>\n",
       "      <td>-0.000505</td>\n",
       "      <td>-0.002512</td>\n",
       "      <td>-0.002867</td>\n",
       "      <td>-0.014665</td>\n",
       "      <td>-0.030212</td>\n",
       "      <td>-0.025546</td>\n",
       "      <td>-0.021110</td>\n",
       "      <td>-0.015288</td>\n",
       "      <td>-0.009674</td>\n",
       "      <td>1.000000</td>\n",
       "      <td>1.000000</td>\n",
       "      <td>-0.048841</td>\n",
       "      <td>-0.040409</td>\n",
       "      <td>-0.001312</td>\n",
       "    </tr>\n",
       "    <tr>\n",
       "      <th>gender_'E'</th>\n",
       "      <td>0.003669</td>\n",
       "      <td>-0.000505</td>\n",
       "      <td>-0.002512</td>\n",
       "      <td>-0.002867</td>\n",
       "      <td>-0.014665</td>\n",
       "      <td>-0.030212</td>\n",
       "      <td>-0.025546</td>\n",
       "      <td>-0.021110</td>\n",
       "      <td>-0.015288</td>\n",
       "      <td>-0.009674</td>\n",
       "      <td>1.000000</td>\n",
       "      <td>1.000000</td>\n",
       "      <td>-0.048841</td>\n",
       "      <td>-0.040409</td>\n",
       "      <td>-0.001312</td>\n",
       "    </tr>\n",
       "    <tr>\n",
       "      <th>gender_'F'</th>\n",
       "      <td>0.000294</td>\n",
       "      <td>0.013018</td>\n",
       "      <td>0.025575</td>\n",
       "      <td>0.027337</td>\n",
       "      <td>0.012592</td>\n",
       "      <td>0.018305</td>\n",
       "      <td>-0.014670</td>\n",
       "      <td>-0.007520</td>\n",
       "      <td>-0.000989</td>\n",
       "      <td>-0.010989</td>\n",
       "      <td>-0.048841</td>\n",
       "      <td>-0.048841</td>\n",
       "      <td>1.000000</td>\n",
       "      <td>-0.994271</td>\n",
       "      <td>-0.032275</td>\n",
       "    </tr>\n",
       "    <tr>\n",
       "      <th>gender_'M'</th>\n",
       "      <td>-0.000452</td>\n",
       "      <td>-0.012880</td>\n",
       "      <td>-0.025172</td>\n",
       "      <td>-0.026984</td>\n",
       "      <td>-0.012741</td>\n",
       "      <td>-0.015628</td>\n",
       "      <td>0.016604</td>\n",
       "      <td>0.010234</td>\n",
       "      <td>0.002953</td>\n",
       "      <td>0.012237</td>\n",
       "      <td>-0.040409</td>\n",
       "      <td>-0.040409</td>\n",
       "      <td>-0.994271</td>\n",
       "      <td>1.000000</td>\n",
       "      <td>-0.026703</td>\n",
       "    </tr>\n",
       "    <tr>\n",
       "      <th>gender_'U'</th>\n",
       "      <td>-0.002874</td>\n",
       "      <td>-0.001686</td>\n",
       "      <td>-0.003259</td>\n",
       "      <td>-0.001894</td>\n",
       "      <td>0.024573</td>\n",
       "      <td>0.000219</td>\n",
       "      <td>0.006038</td>\n",
       "      <td>-0.013950</td>\n",
       "      <td>-0.010103</td>\n",
       "      <td>-0.006393</td>\n",
       "      <td>-0.001312</td>\n",
       "      <td>-0.001312</td>\n",
       "      <td>-0.032275</td>\n",
       "      <td>-0.026703</td>\n",
       "      <td>1.000000</td>\n",
       "    </tr>\n",
       "  </tbody>\n",
       "</table>\n",
       "</div>"
      ],
      "text/plain": [
       "                step    amount     fraud   age_'0'   age_'1'   age_'2'  \\\n",
       "step        1.000000 -0.007961 -0.011898  0.006282 -0.003370 -0.003110   \n",
       "amount     -0.007961  1.000000  0.489967  0.005033 -0.001061  0.002851   \n",
       "fraud      -0.011898  0.489967  1.000000  0.004394 -0.000769  0.002517   \n",
       "age_'0'     0.006282  0.005033  0.004394  1.000000 -0.021181 -0.043635   \n",
       "age_'1'    -0.003370 -0.001061 -0.000769 -0.021181  1.000000 -0.223213   \n",
       "age_'2'    -0.003110  0.002851  0.002517 -0.043635 -0.223213  1.000000   \n",
       "age_'3'     0.004930 -0.000054 -0.000943 -0.036896 -0.188740 -0.388826   \n",
       "age_'4'     0.002233  0.001324  0.003573 -0.030489 -0.155966 -0.321308   \n",
       "age_'5'    -0.003717 -0.004509 -0.003630 -0.022080 -0.112951 -0.232692   \n",
       "age_'6'     0.000143 -0.001997 -0.004685 -0.013972 -0.071474 -0.147244   \n",
       "age_'U'     0.003669 -0.000505 -0.002512 -0.002867 -0.014665 -0.030212   \n",
       "gender_'E'  0.003669 -0.000505 -0.002512 -0.002867 -0.014665 -0.030212   \n",
       "gender_'F'  0.000294  0.013018  0.025575  0.027337  0.012592  0.018305   \n",
       "gender_'M' -0.000452 -0.012880 -0.025172 -0.026984 -0.012741 -0.015628   \n",
       "gender_'U' -0.002874 -0.001686 -0.003259 -0.001894  0.024573  0.000219   \n",
       "\n",
       "             age_'3'   age_'4'   age_'5'   age_'6'   age_'U'  gender_'E'  \\\n",
       "step        0.004930  0.002233 -0.003717  0.000143  0.003669    0.003669   \n",
       "amount     -0.000054  0.001324 -0.004509 -0.001997 -0.000505   -0.000505   \n",
       "fraud      -0.000943  0.003573 -0.003630 -0.004685 -0.002512   -0.002512   \n",
       "age_'0'    -0.036896 -0.030489 -0.022080 -0.013972 -0.002867   -0.002867   \n",
       "age_'1'    -0.188740 -0.155966 -0.112951 -0.071474 -0.014665   -0.014665   \n",
       "age_'2'    -0.388826 -0.321308 -0.232692 -0.147244 -0.030212   -0.030212   \n",
       "age_'3'     1.000000 -0.271685 -0.196755 -0.124504 -0.025546   -0.025546   \n",
       "age_'4'    -0.271685  1.000000 -0.162589 -0.102884 -0.021110   -0.021110   \n",
       "age_'5'    -0.196755 -0.162589  1.000000 -0.074509 -0.015288   -0.015288   \n",
       "age_'6'    -0.124504 -0.102884 -0.074509  1.000000 -0.009674   -0.009674   \n",
       "age_'U'    -0.025546 -0.021110 -0.015288 -0.009674  1.000000    1.000000   \n",
       "gender_'E' -0.025546 -0.021110 -0.015288 -0.009674  1.000000    1.000000   \n",
       "gender_'F' -0.014670 -0.007520 -0.000989 -0.010989 -0.048841   -0.048841   \n",
       "gender_'M'  0.016604  0.010234  0.002953  0.012237 -0.040409   -0.040409   \n",
       "gender_'U'  0.006038 -0.013950 -0.010103 -0.006393 -0.001312   -0.001312   \n",
       "\n",
       "            gender_'F'  gender_'M'  gender_'U'  \n",
       "step          0.000294   -0.000452   -0.002874  \n",
       "amount        0.013018   -0.012880   -0.001686  \n",
       "fraud         0.025575   -0.025172   -0.003259  \n",
       "age_'0'       0.027337   -0.026984   -0.001894  \n",
       "age_'1'       0.012592   -0.012741    0.024573  \n",
       "age_'2'       0.018305   -0.015628    0.000219  \n",
       "age_'3'      -0.014670    0.016604    0.006038  \n",
       "age_'4'      -0.007520    0.010234   -0.013950  \n",
       "age_'5'      -0.000989    0.002953   -0.010103  \n",
       "age_'6'      -0.010989    0.012237   -0.006393  \n",
       "age_'U'      -0.048841   -0.040409   -0.001312  \n",
       "gender_'E'   -0.048841   -0.040409   -0.001312  \n",
       "gender_'F'    1.000000   -0.994271   -0.032275  \n",
       "gender_'M'   -0.994271    1.000000   -0.026703  \n",
       "gender_'U'   -0.032275   -0.026703    1.000000  "
      ]
     },
     "execution_count": 14,
     "metadata": {},
     "output_type": "execute_result"
    }
   ],
   "source": [
    "df_encoded.corr()"
   ]
  },
  {
   "cell_type": "markdown",
   "id": "79565a70",
   "metadata": {},
   "source": [
    "# EXPLORATORY DATA ANALYSIS"
   ]
  },
  {
   "cell_type": "code",
   "execution_count": 15,
   "id": "7ea2e3e4",
   "metadata": {},
   "outputs": [
    {
     "name": "stdout",
     "output_type": "stream",
     "text": [
      "Percentage of Fraudulent Transactions: 1.21%\n"
     ]
    }
   ],
   "source": [
    "# Exploring the class distribution for target variable (Fruad) unstanding its class imbalance\n",
    "# Count of fraudulent transactions (1 represents fraud)\n",
    "fraud_count = y.value_counts()[1]\n",
    "total_count = len(y)\n",
    "fraud_percentage = (fraud_count / total_count) * 100\n",
    "\n",
    "print(f\"Percentage of Fraudulent Transactions: {fraud_percentage:.2f}%\")"
   ]
  },
  {
   "cell_type": "code",
   "execution_count": 16,
   "id": "abc5b33e",
   "metadata": {},
   "outputs": [
    {
     "name": "stdout",
     "output_type": "stream",
     "text": [
      "A low percentage of 1.21% indicates class imbalance, which can affect model performance.\n"
     ]
    }
   ],
   "source": [
    "print(\"A low percentage of 1.21% indicates class imbalance, which can affect model performance.\")"
   ]
  },
  {
   "cell_type": "markdown",
   "id": "be933a83",
   "metadata": {},
   "source": [
    "## Analyze the distribution of features and their relationships with the target variable"
   ]
  },
  {
   "cell_type": "markdown",
   "id": "5ff2e625",
   "metadata": {},
   "source": [
    "#### Feature Distribution and Relationship with Fraud\n",
    "#### Numerical Features (if applicable)"
   ]
  },
  {
   "cell_type": "code",
   "execution_count": 17,
   "id": "8ed25635",
   "metadata": {
    "scrolled": false
   },
   "outputs": [
    {
     "name": "stdout",
     "output_type": "stream",
     "text": [
      "\n",
      "**Summary statistics for step:**\n",
      "count    594643.000000\n",
      "mean         94.986827\n",
      "std          51.053632\n",
      "min           0.000000\n",
      "25%          52.000000\n",
      "50%          97.000000\n",
      "75%         139.000000\n",
      "max         179.000000\n",
      "Name: step, dtype: float64\n"
     ]
    },
    {
     "data": {
      "image/png": "[encoded data removed]",
      "text/plain": [
       "<Figure size 1000x600 with 1 Axes>"
      ]
     },
     "metadata": {},
     "output_type": "display_data"
    },
    {
     "data": {
      "image/png": "[encoded data removed]",
      "text/plain": [
       "<Figure size 1000x600 with 1 Axes>"
      ]
     },
     "metadata": {},
     "output_type": "display_data"
    },
    {
     "name": "stdout",
     "output_type": "stream",
     "text": [
      "\n",
      "**Summary statistics for amount:**\n",
      "count    594643.000000\n",
      "mean         37.890135\n",
      "std         111.402831\n",
      "min           0.000000\n",
      "25%          13.740000\n",
      "50%          26.900000\n",
      "75%          42.540000\n",
      "max        8329.960000\n",
      "Name: amount, dtype: float64\n"
     ]
    },
    {
     "data": {
      "image/png": "[encoded data removed]",
      "text/plain": [
       "<Figure size 1000x600 with 1 Axes>"
      ]
     },
     "metadata": {},
     "output_type": "display_data"
    },
    {
     "data": {
      "image/png": "[encoded data removed]",
      "text/plain": [
       "<Figure size 1000x600 with 1 Axes>"
      ]
     },
     "metadata": {},
     "output_type": "display_data"
    }
   ],
   "source": [
    "numerical_columns = X.select_dtypes(include=['int64', 'float64']).columns\n",
    "if not numerical_columns.empty:  # Check if any numerical columns exist\n",
    "    for feature in numerical_columns:\n",
    "        # Descriptive statistics\n",
    "        print(f\"\\n**Summary statistics for {feature}:**\")\n",
    "        print(X[feature].describe())\n",
    "\n",
    "        # Distribution visualization (histograms or boxplots)\n",
    "        plt.figure(figsize=(10, 6))\n",
    "        sns.histplot(data=X, x=feature, hue=y, kde=True, palette=\"Set1\")\n",
    "        plt.title(f\"Distribution of {feature} by Fraudulence\")\n",
    "        plt.xlabel(feature)\n",
    "        plt.ylabel(\"Frequency\")\n",
    "        plt.legend(title=\"Fraudulent\", labels=[\"No\", \"Yes\"])\n",
    "        plt.show()\n",
    "\n",
    "        plt.figure(figsize=(10, 6))\n",
    "        sns.boxplot(data=X, x=y, y=feature, hue=y, palette=\"Set1\", dodge=False)\n",
    "        plt.title(f\"Boxplot of {feature} by Fraudulence\")\n",
    "        plt.xlabel(\"Fraudulent\")\n",
    "        plt.ylabel(feature)\n",
    "        plt.xticks([0, 1], [\"No\", \"Yes\"])\n",
    "        plt.show()"
   ]
  },
  {
   "cell_type": "markdown",
   "id": "a505c15a",
   "metadata": {},
   "source": [
    "## Categorical Features"
   ]
  },
  {
   "cell_type": "code",
   "execution_count": 18,
   "id": "053f7fc5",
   "metadata": {},
   "outputs": [
    {
     "data": {
      "image/png": "[encoded data removed]",
      "text/plain": [
       "<Figure size 2000x500 with 1 Axes>"
      ]
     },
     "metadata": {},
     "output_type": "display_data"
    }
   ],
   "source": [
    "categorical_features = X.select_dtypes(include=['object']).columns\n",
    "for feature in categorical_features:\n",
    "    plt.figure(figsize=(20, 5))\n",
    "    sns.countplot(x=feature, hue=y, data=X, palette=\"Set1\")\n",
    "    plt.title(f\"Distribution of {feature} by Fraud\")\n",
    "    plt.xlabel(feature)\n",
    "    plt.ylabel(\"Count\")\n",
    "    plt.xticks(rotation=30)\n",
    "    plt.legend(title=\"Fraudulent\", labels=[\"No\", \"Yes\"])\n",
    "    plt.show()\n",
    "    plt.close()"
   ]
  },
  {
   "cell_type": "code",
   "execution_count": 19,
   "id": "70d77719",
   "metadata": {},
   "outputs": [
    {
     "name": "stdout",
     "output_type": "stream",
     "text": [
      "\n",
      "**Contingency table for category and fraud:**\n",
      " fraud                         0     1\n",
      "category                             \n",
      "'es_barsandrestaurants'    6253   120\n",
      "'es_contents'               885     0\n",
      "'es_fashion'               6338   116\n",
      "'es_food'                 26254     0\n",
      "'es_health'               14437  1696\n",
      "'es_home'                  1684   302\n",
      "'es_hotelservices'         1196   548\n",
      "'es_hyper'                 5818   280\n",
      "'es_leisure'                 25   474\n",
      "'es_otherservices'          684   228\n",
      "'es_sportsandtoys'         2020  1982\n",
      "'es_tech'                  2212   158\n",
      "'es_transportation'      505119     0\n",
      "'es_travel'                 150   578\n",
      "'es_wellnessandbeauty'    14368   718\n"
     ]
    }
   ],
   "source": [
    "contingency_table = pd.crosstab(X[feature], y)\n",
    "print(f\"\\n**Contingency table for {feature} and fraud:**\\n\", contingency_table)"
   ]
  },
  {
   "cell_type": "markdown",
   "id": "ccfadae4",
   "metadata": {},
   "source": [
    "# **Outliers**\n",
    "After checking out the boxplots for the outliers, there were no troubling outlier found in the feature variables."
   ]
  },
  {
   "cell_type": "markdown",
   "id": "f7cbddd3",
   "metadata": {},
   "source": [
    "# FEATURE ENGINEERING"
   ]
  },
  {
   "cell_type": "code",
   "execution_count": 20,
   "id": "0ab7fb70",
   "metadata": {},
   "outputs": [
    {
     "name": "stdout",
     "output_type": "stream",
     "text": [
      "0        2024-05-26 00:00:00\n",
      "1        2024-05-26 00:00:00\n",
      "2        2024-05-26 00:00:00\n",
      "3        2024-05-26 00:00:00\n",
      "4        2024-05-26 00:00:00\n",
      "                 ...        \n",
      "594638   2024-06-02 11:00:00\n",
      "594639   2024-06-02 11:00:00\n",
      "594640   2024-06-02 11:00:00\n",
      "594641   2024-06-02 11:00:00\n",
      "594642   2024-06-02 11:00:00\n",
      "Name: time_of_day, Length: 594643, dtype: datetime64[ns]\n"
     ]
    }
   ],
   "source": [
    "# Create time of day column from step column (Note: 1 Step equals 1 hour)\n",
    "starting_time = pd.Timestamp('00:00')\n",
    "# Create the \"Time_of_day\" column\n",
    "df['time_of_day'] = starting_time + pd.to_timedelta(df['step'], unit='h')\n",
    "# Print the DataFrame with the \"Time_of_day\" column\n",
    "print(df['time_of_day'])\n",
    "\n",
    "# Selecting Numerical and Categorical features\n",
    "numerical_features = X.select_dtypes(include=['int64', 'float64']).columns\n",
    "categorical_features = X.select_dtypes(include=['object']).columns\n",
    "\n",
    "# Standardizing the numerical features using StandardScaler\n",
    "numerical_pipeline = Pipeline([('scaler', StandardScaler())])\n",
    "\n",
    "# One-Hot Encoding the categorical features\n",
    "categorical_pipeline = Pipeline([('onehot', OneHotEncoder())])\n",
    "\n",
    "# Combining the numerical and categorical pipelines\n",
    "preprocessor = ColumnTransformer([('num', numerical_pipeline, numerical_features),('cat', categorical_pipeline, categorical_features)])\n",
    "\n",
    "# Transforming the data using the preprocessor\n",
    "X_preprocessed = preprocessor.fit_transform(X)"
   ]
  },
  {
   "cell_type": "markdown",
   "id": "0f125f7e",
   "metadata": {},
   "source": [
    "#  MODEL SELECTION"
   ]
  },
  {
   "cell_type": "code",
   "execution_count": 21,
   "id": "5d16c3c6",
   "metadata": {},
   "outputs": [
    {
     "data": {
      "text/plain": [
       "<594643x17 sparse matrix of type '<class 'numpy.float64'>'\n",
       "\twith 1783929 stored elements in Compressed Sparse Row format>"
      ]
     },
     "execution_count": 21,
     "metadata": {},
     "output_type": "execute_result"
    }
   ],
   "source": [
    "X_preprocessed"
   ]
  },
  {
   "cell_type": "markdown",
   "id": "8f238474",
   "metadata": {},
   "source": [
    "### Split the dataset"
   ]
  },
  {
   "cell_type": "code",
   "execution_count": 22,
   "id": "a58e0cdd",
   "metadata": {},
   "outputs": [],
   "source": [
    "# Split the data into training and testing sets\n",
    "X_train, X_test, y_train, y_test = train_test_split(X_preprocessed, y, test_size=0.2, random_state=42)"
   ]
  },
  {
   "cell_type": "markdown",
   "id": "ac588760",
   "metadata": {},
   "source": [
    "### Before Addressing the Class Imbalance"
   ]
  },
  {
   "cell_type": "code",
   "execution_count": 23,
   "id": "b2fc6249",
   "metadata": {},
   "outputs": [
    {
     "name": "stdout",
     "output_type": "stream",
     "text": [
      "\n",
      "========== Logistic Regression ==========\n",
      "\n",
      " Accuracy: 0.9945345542298346\n",
      " Precision: 0.8982346832814122\n",
      " Recall: 0.6104446012702893\n",
      " F1 Score: 0.7268907563025209\n",
      "\n",
      " Confusion Matrix:\n",
      "[[117414     98]\n",
      " [   552    865]]\n",
      "\n",
      " Classification Report:\n",
      "              precision    recall  f1-score   support\n",
      "\n",
      "           0       1.00      1.00      1.00    117512\n",
      "           1       0.90      0.61      0.73      1417\n",
      "\n",
      "    accuracy                           0.99    118929\n",
      "   macro avg       0.95      0.80      0.86    118929\n",
      "weighted avg       0.99      0.99      0.99    118929\n",
      "\n",
      "\n",
      "========== Random Forest Classifier ==========\n",
      "\n",
      " Accuracy: 0.9942486693741645\n",
      " Precision: 0.8195292066259808\n",
      " Recall: 0.6633733239237827\n",
      " F1 Score: 0.7332293291731671\n",
      "\n",
      " Confusion Matrix:\n",
      "[[117305    207]\n",
      " [   477    940]]\n",
      "\n",
      " Classification Report:\n",
      "              precision    recall  f1-score   support\n",
      "\n",
      "           0       1.00      1.00      1.00    117512\n",
      "           1       0.82      0.66      0.73      1417\n",
      "\n",
      "    accuracy                           0.99    118929\n",
      "   macro avg       0.91      0.83      0.87    118929\n",
      "weighted avg       0.99      0.99      0.99    118929\n",
      "\n",
      "\n",
      "========== Gradient Boosting Classifier ==========\n",
      "\n",
      " Accuracy: 0.9948877061103684\n",
      " Precision: 0.8721251149954001\n",
      " Recall: 0.6690190543401553\n",
      " F1 Score: 0.757188498402556\n",
      "\n",
      " Confusion Matrix:\n",
      "[[117373    139]\n",
      " [   469    948]]\n",
      "\n",
      " Classification Report:\n",
      "              precision    recall  f1-score   support\n",
      "\n",
      "           0       1.00      1.00      1.00    117512\n",
      "           1       0.87      0.67      0.76      1417\n",
      "\n",
      "    accuracy                           0.99    118929\n",
      "   macro avg       0.93      0.83      0.88    118929\n",
      "weighted avg       0.99      0.99      0.99    118929\n",
      "\n",
      "\n",
      "========== Neural Network Classifier ==========\n",
      "\n",
      " Accuracy: 0.9951567742098226\n",
      " Precision: 0.9459172852598091\n",
      " Recall: 0.629498941425547\n",
      " F1 Score: 0.7559322033898305\n",
      "\n",
      " Confusion Matrix:\n",
      "[[117461     51]\n",
      " [   525    892]]\n",
      "\n",
      " Classification Report:\n",
      "              precision    recall  f1-score   support\n",
      "\n",
      "           0       1.00      1.00      1.00    117512\n",
      "           1       0.95      0.63      0.76      1417\n",
      "\n",
      "    accuracy                           1.00    118929\n",
      "   macro avg       0.97      0.81      0.88    118929\n",
      "weighted avg       0.99      1.00      0.99    118929\n",
      "\n",
      "Wall time: 4min 52s\n"
     ]
    }
   ],
   "source": [
    "%%time\n",
    "# Define classifiers\n",
    "classifiers = {\n",
    "    \"Logistic Regression\": LogisticRegression(max_iter=1000),\n",
    "    \"Random Forest Classifier\": RandomForestClassifier(),\n",
    "    \"Gradient Boosting Classifier\": GradientBoostingClassifier(),\n",
    "    \"Neural Network Classifier\": MLPClassifier()\n",
    "}\n",
    "\n",
    "# Initialize list to collect metrics\n",
    "results = []\n",
    "\n",
    "# Train and evaluate classifiers\n",
    "for name, clf in classifiers.items():\n",
    "    print(f\"\\n========== {name} ==========\")\n",
    "    clf.fit(X_train, y_train)\n",
    "    y_pred = clf.predict(X_test)\n",
    "\n",
    "    # Evaluation Metrics\n",
    "    accuracy = accuracy_score(y_test, y_pred)\n",
    "    precision = precision_score(y_test, y_pred)\n",
    "    recall = recall_score(y_test, y_pred)\n",
    "    f1 = f1_score(y_test, y_pred)\n",
    "    print(f\"\\n Accuracy: {accuracy}\")\n",
    "    print(f\" Precision: {precision}\")\n",
    "    print(f\" Recall: {recall}\")\n",
    "    print(f\" F1 Score: {f1}\")\n",
    "\n",
    "    # Store results in the list\n",
    "    results.append({\n",
    "        \"Classifier\": name,\n",
    "        \"Accuracy\": accuracy,\n",
    "        \"Precision\": precision,\n",
    "        \"Recall\": recall,\n",
    "        \"F1 Score\": f1\n",
    "    })\n",
    "\n",
    "    # Confusion Matrix\n",
    "    print(\"\\n Confusion Matrix:\")\n",
    "    print(confusion_matrix(y_test, y_pred))\n",
    "\n",
    "    # Classification Report\n",
    "    print(\"\\n Classification Report:\")\n",
    "    print(classification_report(y_test, y_pred))"
   ]
  },
  {
   "cell_type": "code",
   "execution_count": 24,
   "id": "df60a91b",
   "metadata": {},
   "outputs": [
    {
     "name": "stdout",
     "output_type": "stream",
     "text": [
      "\n",
      "Evaluation Metrics before applying SMOTE:\n",
      "+----+------------------------------+------------+-------------+----------+------------+\n",
      "|    | Classifier                   |   Accuracy |   Precision |   Recall |   F1 Score |\n",
      "+====+==============================+============+=============+==========+============+\n",
      "|  0 | Logistic Regression          |   0.994535 |    0.898235 | 0.610445 |   0.726891 |\n",
      "+----+------------------------------+------------+-------------+----------+------------+\n",
      "|  1 | Random Forest Classifier     |   0.994249 |    0.819529 | 0.663373 |   0.733229 |\n",
      "+----+------------------------------+------------+-------------+----------+------------+\n",
      "|  2 | Gradient Boosting Classifier |   0.994888 |    0.872125 | 0.669019 |   0.757188 |\n",
      "+----+------------------------------+------------+-------------+----------+------------+\n",
      "|  3 | Neural Network Classifier    |   0.995157 |    0.945917 | 0.629499 |   0.755932 |\n",
      "+----+------------------------------+------------+-------------+----------+------------+\n"
     ]
    }
   ],
   "source": [
    "# Create DataFrame for metrics\n",
    "metrics_df = pd.DataFrame.from_records(results)\n",
    "\n",
    "# Print evaluation metrics in tabular format with lines\n",
    "print(\"\\nEvaluation Metrics before applying SMOTE:\")\n",
    "print(tabulate(metrics_df, headers='keys', tablefmt='grid'))\n"
   ]
  },
  {
   "cell_type": "markdown",
   "id": "9a5837f3",
   "metadata": {},
   "source": [
    "Based on the provided model evaluations for Logistic Regression, Random Forest Classifier, Gradient Boosting Classifier, and Neural Network Classifier,  **it seems like all models achieve high accuracy scores around 99.5%.** \n",
    "\n",
    "**However, when we look at precision, recall, and F1 scores, we can observe differences among the models in terms of their ability to correctly identify instances of fraud (class 1).**"
   ]
  },
  {
   "cell_type": "markdown",
   "id": "78ef769b",
   "metadata": {},
   "source": [
    "**Here are some key observations:**\n",
    "\n",
    "**1. Logistic Regression:**\n",
    "\n",
    "Achieves a high accuracy score.\n",
    "Precision, recall, and F1 score for class 1 are lower compared to other models.\n",
    "Indicates some convergence issues during training.\n",
    "\n",
    "**2. Random Forest Classifier:**\n",
    "\n",
    "High accuracy score with slightly lower precision, recall, and F1 score for class 1 compared to other models.\n",
    "The precision is lower than other models, indicating more false positives.\n",
    "\n",
    "**3. Gradient Boosting Classifier:**\n",
    "\n",
    "Achieves high accuracy with balanced precision, recall, and F1 scores for both classes.\n",
    "Generally performs better than Random Forest and Logistic Regression in terms of identifying class 1 instances.\n",
    "\n",
    "**4. Neural Network Classifier:**\n",
    "\n",
    "Similar to Gradient Boosting, it achieves high accuracy with balanced precision, recall, and F1 scores for both classes.\n",
    "Precision and recall for class 1 are higher compared to Logistic Regression and Random Forest."
   ]
  },
  {
   "cell_type": "markdown",
   "id": "a4a96ba6",
   "metadata": {},
   "source": [
    "# Addressing Class Imbalance by applying **SMOTE**"
   ]
  },
  {
   "cell_type": "code",
   "execution_count": 25,
   "id": "6901be70",
   "metadata": {},
   "outputs": [
    {
     "name": "stdout",
     "output_type": "stream",
     "text": [
      "\n",
      "========== Logistic Regression ==========\n",
      "\n",
      " Accuracy: 0.9567363753202427\n",
      " Precision: 0.9287239914564784\n",
      " Recall: 0.9892972484725572\n",
      " F1 Score: 0.9580541343456015\n",
      "\n",
      " Confusion Matrix:\n",
      "[[108715   8910]\n",
      " [  1256 116097]]\n",
      "\n",
      " Classification Report:\n",
      "              precision    recall  f1-score   support\n",
      "\n",
      "           0       0.99      0.92      0.96    117625\n",
      "           1       0.93      0.99      0.96    117353\n",
      "\n",
      "    accuracy                           0.96    234978\n",
      "   macro avg       0.96      0.96      0.96    234978\n",
      "weighted avg       0.96      0.96      0.96    234978\n",
      "\n",
      "\n",
      "========== Random Forest Classifier ==========\n",
      "\n",
      " Accuracy: 0.9837006017584625\n",
      " Precision: 0.9759674646765335\n",
      " Recall: 0.9917854677767078\n",
      " F1 Score: 0.9838128888287802\n",
      "\n",
      " Confusion Matrix:\n",
      "[[114759   2866]\n",
      " [   964 116389]]\n",
      "\n",
      " Classification Report:\n",
      "              precision    recall  f1-score   support\n",
      "\n",
      "           0       0.99      0.98      0.98    117625\n",
      "           1       0.98      0.99      0.98    117353\n",
      "\n",
      "    accuracy                           0.98    234978\n",
      "   macro avg       0.98      0.98      0.98    234978\n",
      "weighted avg       0.98      0.98      0.98    234978\n",
      "\n",
      "\n",
      "========== Gradient Boosting Classifier ==========\n",
      "\n",
      " Accuracy: 0.9582982236634919\n",
      " Precision: 0.9292270608517974\n",
      " Recall: 0.992058149344286\n",
      " F1 Score: 0.9596152340288739\n",
      "\n",
      " Confusion Matrix:\n",
      "[[108758   8867]\n",
      " [   932 116421]]\n",
      "\n",
      " Classification Report:\n",
      "              precision    recall  f1-score   support\n",
      "\n",
      "           0       0.99      0.92      0.96    117625\n",
      "           1       0.93      0.99      0.96    117353\n",
      "\n",
      "    accuracy                           0.96    234978\n",
      "   macro avg       0.96      0.96      0.96    234978\n",
      "weighted avg       0.96      0.96      0.96    234978\n",
      "\n",
      "\n",
      "========== Neural Network Classifier ==========\n",
      "\n",
      " Accuracy: 0.9596557975640273\n",
      " Precision: 0.9368353702488843\n",
      " Recall: 0.9856756964031597\n",
      " F1 Score: 0.9606351526425937\n",
      "\n",
      " Confusion Matrix:\n",
      "[[109826   7799]\n",
      " [  1681 115672]]\n",
      "\n",
      " Classification Report:\n",
      "              precision    recall  f1-score   support\n",
      "\n",
      "           0       0.98      0.93      0.96    117625\n",
      "           1       0.94      0.99      0.96    117353\n",
      "\n",
      "    accuracy                           0.96    234978\n",
      "   macro avg       0.96      0.96      0.96    234978\n",
      "weighted avg       0.96      0.96      0.96    234978\n",
      "\n",
      "Wall time: 35min 26s\n"
     ]
    }
   ],
   "source": [
    "%%time\n",
    "# Apply SMOTE to address class imbalance\n",
    "smote = SMOTE(random_state=42)\n",
    "X_preprocessed_resampled, y_resampled = smote.fit_resample(X_preprocessed, y)\n",
    "\n",
    "# Split the resampled data into training and testing sets\n",
    "X_train, X_test, y_train, y_test = train_test_split(X_preprocessed_resampled, y_resampled, test_size=0.2, random_state=42)\n",
    "\n",
    "# Define classifiers\n",
    "classifiers = {\n",
    "    \"Logistic Regression\": LogisticRegression(max_iter=1000),\n",
    "    \"Random Forest Classifier\": RandomForestClassifier(),\n",
    "    \"Gradient Boosting Classifier\": GradientBoostingClassifier(),\n",
    "    \"Neural Network Classifier\": MLPClassifier()\n",
    "}\n",
    "\n",
    "# Initialize list to collect metrics\n",
    "results_smote = []\n",
    "\n",
    "# Train and evaluate classifiers\n",
    "for name, clf in classifiers.items():\n",
    "    print(f\"\\n========== {name} ==========\")\n",
    "    clf.fit(X_train, y_train)\n",
    "    y_pred = clf.predict(X_test)\n",
    "\n",
    "    # Evaluation Metrics\n",
    "    accuracy = accuracy_score(y_test, y_pred)\n",
    "    precision = precision_score(y_test, y_pred)\n",
    "    recall = recall_score(y_test, y_pred)\n",
    "    f1 = f1_score(y_test, y_pred)\n",
    "    print(f\"\\n Accuracy: {accuracy}\")\n",
    "    print(f\" Precision: {precision}\")\n",
    "    print(f\" Recall: {recall}\")\n",
    "    print(f\" F1 Score: {f1}\")\n",
    "\n",
    "    # Store results in the list\n",
    "    results_smote.append({\n",
    "        \"Classifier\": name,\n",
    "        \"Accuracy\": accuracy,\n",
    "        \"Precision\": precision,\n",
    "        \"Recall\": recall,\n",
    "        \"F1 Score\": f1\n",
    "    })\n",
    "\n",
    "    # Confusion Matrix\n",
    "    print(\"\\n Confusion Matrix:\")\n",
    "    print(confusion_matrix(y_test, y_pred))\n",
    "\n",
    "    # Classification Report\n",
    "    print(\"\\n Classification Report:\")\n",
    "    print(classification_report(y_test, y_pred))"
   ]
  },
  {
   "cell_type": "code",
   "execution_count": 26,
   "id": "2dc31674",
   "metadata": {},
   "outputs": [
    {
     "name": "stdout",
     "output_type": "stream",
     "text": [
      "\n",
      "Evaluation Metrics after applying SMOTE:\n",
      "+----+------------------------------+------------+-------------+----------+------------+\n",
      "|    | Classifier                   |   Accuracy |   Precision |   Recall |   F1 Score |\n",
      "+====+==============================+============+=============+==========+============+\n",
      "|  0 | Logistic Regression          |   0.956736 |    0.928724 | 0.989297 |   0.958054 |\n",
      "+----+------------------------------+------------+-------------+----------+------------+\n",
      "|  1 | Random Forest Classifier     |   0.983701 |    0.975967 | 0.991785 |   0.983813 |\n",
      "+----+------------------------------+------------+-------------+----------+------------+\n",
      "|  2 | Gradient Boosting Classifier |   0.958298 |    0.929227 | 0.992058 |   0.959615 |\n",
      "+----+------------------------------+------------+-------------+----------+------------+\n",
      "|  3 | Neural Network Classifier    |   0.959656 |    0.936835 | 0.985676 |   0.960635 |\n",
      "+----+------------------------------+------------+-------------+----------+------------+\n"
     ]
    }
   ],
   "source": [
    "# Create DataFrame for metrics\n",
    "metrics_df_smote = pd.DataFrame.from_records(results_smote)\n",
    "\n",
    "# Print evaluation metrics in tabular format with lines\n",
    "print(\"\\nEvaluation Metrics after applying SMOTE:\")\n",
    "print(tabulate(metrics_df_smote, headers='keys', tablefmt='grid'))"
   ]
  },
  {
   "cell_type": "markdown",
   "id": "a3ce6753",
   "metadata": {},
   "source": [
    "# Performance Comparison of Different Models for Fraud Detection "
   ]
  },
  {
   "cell_type": "code",
   "execution_count": 27,
   "id": "61b953db",
   "metadata": {},
   "outputs": [
    {
     "data": {
      "image/png": "[encoded data removed]",
      "text/plain": [
       "<Figure size 1200x800 with 1 Axes>"
      ]
     },
     "metadata": {},
     "output_type": "display_data"
    }
   ],
   "source": [
    "# Comparison of 4 models metrics\n",
    "metrics_data = {\n",
    "    'Classifier': ['Logistic Regression', 'Random Forest Classifier', 'Gradient Boosting Classifier', 'Neural Network Classifier'],\n",
    "    'F1 Score_without_SMOTE': [0.726891, 0.736144, 0.757188, 0.760736],\n",
    "    'F1 Score_with_SMOTE': [0.958054, 0.983621, 0.959615, 0.961204]\n",
    "}\n",
    "\n",
    "combined_metrics_df = pd.DataFrame(metrics_data)\n",
    "\n",
    "# Plotting\n",
    "plt.figure(figsize=(12, 8))\n",
    "bar_width = 0.35\n",
    "index = combined_metrics_df.index\n",
    "\n",
    "# Plot F1 scores for models without SMOTE\n",
    "bars1 = plt.bar(index - bar_width/2, combined_metrics_df['F1 Score_without_SMOTE'], bar_width, label='F1 Score without SMOTE', color='skyblue')\n",
    "\n",
    "# Plot F1 scores for models with SMOTE\n",
    "bars2 = plt.bar(index + bar_width/2, combined_metrics_df['F1 Score_with_SMOTE'], bar_width, label='F1 Score with SMOTE', color='orange')\n",
    "\n",
    "plt.xlabel('Classifier')\n",
    "plt.ylabel('F1 Score')\n",
    "plt.title('Comparison of F1 Score for Models with and without SMOTE')\n",
    "plt.xticks(index, combined_metrics_df['Classifier'], rotation=45, ha='right')\n",
    "plt.legend()\n",
    "\n",
    "# Adding values on the bars\n",
    "for bars in [bars1, bars2]:\n",
    "    for bar in bars:\n",
    "        yval = bar.get_height()\n",
    "        plt.text(bar.get_x() + bar.get_width()/2, yval, round(yval, 3), va='bottom', ha='center')\n",
    "\n",
    "plt.tight_layout()\n",
    "plt.show()"
   ]
  },
  {
   "cell_type": "markdown",
   "id": "b5de3eb1",
   "metadata": {},
   "source": [
    "   **From this we can clearly see the best performing model is the Random Forest Classifier SMOTE.**"
   ]
  },
  {
   "cell_type": "markdown",
   "id": "29c44091",
   "metadata": {},
   "source": [
    "# MODEL INTERPRETATION"
   ]
  },
  {
   "cell_type": "markdown",
   "id": "b093e8db",
   "metadata": {},
   "source": [
    "**Implementing SMOTE on our imbalanced dataset helped us with the imbalance of our labels (more no fraud than fraud transactions).**"
   ]
  },
  {
   "cell_type": "markdown",
   "id": "ee6d6a47",
   "metadata": {},
   "source": [
    "Based on the provided results, **The best performing model is the Random Forest Classifier. **\n",
    "\n",
    "***Here's a breakdown of the key metrics for comparison:***\n",
    "\n",
    "  **Accuracy:** Random Forest (0.984) achieves the highest accuracy in classifying correctly.\n",
    "\n",
    "  **Precision & Recall:** While all models have high precision and recall, Random Forest maintains a good balance between                           them (precision: 0.975, recall: 0.993).\n",
    "\n",
    "  **F1 Score:** This metric combines precision and recall, and again Random Forest has the highest score (0.984).\n",
    "\n",
    "Logistic Regression and Gradient Boosting Classifier have similar performance to each other, but fall short of the Random Forest in terms of accuracy and F1 score.\n",
    "\n",
    "Neural Network Classifier shows a good balance between precision and recall, but its overall accuracy is slightly lower than the Random Forest.\n",
    "\n",
    "> **Key Features includes:**\n",
    "\n",
    "step             int64\n",
    "\n",
    "category        object (Used One Hot Encoder here)\n",
    "\n",
    "amount         float64\n",
    "\n",
    "fraud            int64\n",
    "\n",
    "age_'0'          int64\n",
    "\n",
    "age_'1'          int64\n",
    "\n",
    "age_'2'          int64\n",
    "\n",
    "age_'3'          int64\n",
    "\n",
    "age_'4'          int64\n",
    "\n",
    "age_'5'          int64\n",
    "\n",
    "age_'6'          int64\n",
    "\n",
    "age_'U'          int64\n",
    "\n",
    "gender_'E'       int64\n",
    "\n",
    "gender_'F'       int64\n",
    "\n",
    "gender_'M'       int64\n",
    "\n",
    "gender_'U'       int64\n"
   ]
  },
  {
   "cell_type": "code",
   "execution_count": 28,
   "id": "3319b2d9",
   "metadata": {},
   "outputs": [
    {
     "name": "stdout",
     "output_type": "stream",
     "text": [
      "Wall time: 35min 10s\n"
     ]
    }
   ],
   "source": [
    "%%time\n",
    "# Apply SMOTE to Address Class Imbalance\n",
    "smote = SMOTE(random_state=42)\n",
    "X_preprocessed_resampled, y_resampled = smote.fit_resample(X_preprocessed, y)\n",
    "\n",
    "# Split the Resampled Data into Training and Testing Sets\n",
    "X_train_smote, X_test_smote, y_train_smote, y_test_smote = train_test_split(X_preprocessed_resampled, y_resampled, test_size=0.2, random_state=42)\n",
    "\n",
    "# Train the Random Forest classifier\n",
    "rf_classifier = RandomForestClassifier()\n",
    "rf_classifier.fit(X_train_smote, y_train_smote)\n",
    "\n",
    "with open('random_forest_model_smote.pkl', 'wb') as file:\n",
    "    pickle.dump(rf_classifier, file)"
   ]
  },
  {
   "cell_type": "code",
   "execution_count": 29,
   "id": "1d31a0ab",
   "metadata": {},
   "outputs": [
    {
     "name": "stdout",
     "output_type": "stream",
     "text": [
      "[0 0 0 ... 1 0 0]\n"
     ]
    }
   ],
   "source": [
    "with open('random_forest_model_smote.pkl', 'rb') as model_file:\n",
    "    loaded_model = pickle.load(model_file)\n",
    "\n",
    "predictions = loaded_model.predict(X_test_smote)\n",
    "\n",
    "print(predictions)"
   ]
  },
  {
   "cell_type": "code",
   "execution_count": 30,
   "id": "9158e215",
   "metadata": {},
   "outputs": [
    {
     "name": "stdout",
     "output_type": "stream",
     "text": [
      "   Value   Count\n",
      "0      0  115760\n",
      "1      1  119218\n"
     ]
    }
   ],
   "source": [
    "import numpy as np\n",
    "unique_values, counts = np.unique(predictions, return_counts=True)\n",
    "counts_df = pd.DataFrame({'Value': unique_values, 'Count': counts})\n",
    "print(counts_df)\n"
   ]
  },
  {
   "cell_type": "markdown",
   "id": "02512f0c",
   "metadata": {},
   "source": [
    "# Analysing Business Value: Key Outcome and Recommendations"
   ]
  },
  {
   "cell_type": "markdown",
   "id": "6ac2b7ce",
   "metadata": {},
   "source": [
    "To get a true estimation I would want to test the models effectiveness at this cutoff on completely unseen future data, account for a deterioration in model effectiveness as time goes on, and take a more detailed approach to estimating costs.\n",
    "\n",
    "Recall that the data contains 370,604 transactions, during 118 hours, with 1.21% fraud.\n",
    "\n",
    "Some common scenerios of blocking of cards during transaction for non-fraudulent users and other reasons are why we used SMOTE to fix the imbalance in the dataset.\n",
    "\n",
    "We were able to get the best F1 score from Random Forest, which also indicate No or Less Bias in the result and an accuracy of more than 90%.\n",
    "\n",
    "Other recommendations should be, there should be detailed extraction of time and data the transaction occured, Location, and Device Used, there should be regular checking of model if new features are added"
   ]
  },
  {
   "cell_type": "markdown",
   "id": "1eac8245",
   "metadata": {},
   "source": [
    "# Predictions on the test dataset"
   ]
  },
  {
   "cell_type": "code",
   "execution_count": 31,
   "id": "e227f834",
   "metadata": {},
   "outputs": [],
   "source": [
    "def predict_from_csv(test_csv_file):\n",
    "    test_df = pd.read_csv(test_csv_file)\n",
    "    test_encoded = pd.get_dummies(test_df, columns=['age', 'gender'], dtype=int)\n",
    "    X_test = test_encoded.drop(['zipMerchant', 'zipcodeOri', 'merchant', 'customer'], axis=1)\n",
    "    starting_time = pd.Timestamp('00:00')\n",
    "    X_test['time_of_day'] = starting_time + pd.to_timedelta(X_test['step'], unit='h')\n",
    "    numerical_features = X_test.select_dtypes(include=['int64', 'float64']).columns\n",
    "    categorical_features = X_test.select_dtypes(include=['object']).columns\n",
    "    numerical_pipeline = Pipeline([('scaler', StandardScaler())])\n",
    "    categorical_pipeline = Pipeline([('onehot', OneHotEncoder())])\n",
    "    preprocessor = ColumnTransformer([('num', numerical_pipeline, numerical_features),('cat', categorical_pipeline, categorical_features)])\n",
    "    X_preprocessed = preprocessor.fit_transform(X_test)\n",
    "    predictions = loaded_model.predict(X_preprocessed)\n",
    "    return predictions\n"
   ]
  },
  {
   "cell_type": "code",
   "execution_count": 32,
   "id": "00308649",
   "metadata": {},
   "outputs": [
    {
     "name": "stdout",
     "output_type": "stream",
     "text": [
      "[0 0 0 ... 0 0 0]\n"
     ]
    }
   ],
   "source": [
    "# Load the trained Random Forest model\n",
    "with open('random_forest_model_smote.pkl', 'rb') as file:\n",
    "    loaded_model = pickle.load(file)\n",
    "\n",
    "# Provide the path to your test CSV file\n",
    "test_csv_file = 'test.csv'\n",
    "test_predictions = predict_from_csv(test_csv_file)\n",
    "print(test_predictions)\n",
    "\n"
   ]
  },
  {
   "cell_type": "code",
   "execution_count": 33,
   "id": "71ff9a69",
   "metadata": {},
   "outputs": [
    {
     "name": "stdout",
     "output_type": "stream",
     "text": [
      "   Value   Count\n",
      "0      0  584655\n",
      "1      1    9988\n"
     ]
    }
   ],
   "source": [
    "import numpy as np\n",
    "unique_values, counts = np.unique(test_predictions, return_counts=True)\n",
    "counts_df = pd.DataFrame({'Value': unique_values, 'Count': counts})\n",
    "print(counts_df)"
   ]
  },
  {
   "cell_type": "markdown",
   "id": "defba90b",
   "metadata": {},
   "source": [
    "# Fine Tuning & Optimization"
   ]
  },
  {
   "cell_type": "code",
   "execution_count": 34,
   "id": "64223b72",
   "metadata": {},
   "outputs": [
    {
     "name": "stdout",
     "output_type": "stream",
     "text": [
      "Fitting 3 folds for each of 2 candidates, totalling 6 fits\n",
      "Best Parameters: {'max_depth': None, 'min_samples_leaf': 1, 'min_samples_split': 2, 'n_estimators': 100}\n",
      "Wall time: 1h 52min 14s\n"
     ]
    },
    {
     "data": {
      "text/html": [
       "<style>#sk-container-id-1 {color: black;background-color: white;}#sk-container-id-1 pre{padding: 0;}#sk-container-id-1 div.sk-toggleable {background-color: white;}#sk-container-id-1 label.sk-toggleable__label {cursor: pointer;display: block;width: 100%;margin-bottom: 0;padding: 0.3em;box-sizing: border-box;text-align: center;}#sk-container-id-1 label.sk-toggleable__label-arrow:before {content: \"▸\";float: left;margin-right: 0.25em;color: #696969;}#sk-container-id-1 label.sk-toggleable__label-arrow:hover:before {color: black;}#sk-container-id-1 div.sk-estimator:hover label.sk-toggleable__label-arrow:before {color: black;}#sk-container-id-1 div.sk-toggleable__content {max-height: 0;max-width: 0;overflow: hidden;text-align: left;background-color: #f0f8ff;}#sk-container-id-1 div.sk-toggleable__content pre {margin: 0.2em;color: black;border-radius: 0.25em;background-color: #f0f8ff;}#sk-container-id-1 input.sk-toggleable__control:checked~div.sk-toggleable__content {max-height: 200px;max-width: 100%;overflow: auto;}#sk-container-id-1 input.sk-toggleable__control:checked~label.sk-toggleable__label-arrow:before {content: \"▾\";}#sk-container-id-1 div.sk-estimator input.sk-toggleable__control:checked~label.sk-toggleable__label {background-color: #d4ebff;}#sk-container-id-1 div.sk-label input.sk-toggleable__control:checked~label.sk-toggleable__label {background-color: #d4ebff;}#sk-container-id-1 input.sk-hidden--visually {border: 0;clip: rect(1px 1px 1px 1px);clip: rect(1px, 1px, 1px, 1px);height: 1px;margin: -1px;overflow: hidden;padding: 0;position: absolute;width: 1px;}#sk-container-id-1 div.sk-estimator {font-family: monospace;background-color: #f0f8ff;border: 1px dotted black;border-radius: 0.25em;box-sizing: border-box;margin-bottom: 0.5em;}#sk-container-id-1 div.sk-estimator:hover {background-color: #d4ebff;}#sk-container-id-1 div.sk-parallel-item::after {content: \"\";width: 100%;border-bottom: 1px solid gray;flex-grow: 1;}#sk-container-id-1 div.sk-label:hover label.sk-toggleable__label {background-color: #d4ebff;}#sk-container-id-1 div.sk-serial::before {content: \"\";position: absolute;border-left: 1px solid gray;box-sizing: border-box;top: 0;bottom: 0;left: 50%;z-index: 0;}#sk-container-id-1 div.sk-serial {display: flex;flex-direction: column;align-items: center;background-color: white;padding-right: 0.2em;padding-left: 0.2em;position: relative;}#sk-container-id-1 div.sk-item {position: relative;z-index: 1;}#sk-container-id-1 div.sk-parallel {display: flex;align-items: stretch;justify-content: center;background-color: white;position: relative;}#sk-container-id-1 div.sk-item::before, #sk-container-id-1 div.sk-parallel-item::before {content: \"\";position: absolute;border-left: 1px solid gray;box-sizing: border-box;top: 0;bottom: 0;left: 50%;z-index: -1;}#sk-container-id-1 div.sk-parallel-item {display: flex;flex-direction: column;z-index: 1;position: relative;background-color: white;}#sk-container-id-1 div.sk-parallel-item:first-child::after {align-self: flex-end;width: 50%;}#sk-container-id-1 div.sk-parallel-item:last-child::after {align-self: flex-start;width: 50%;}#sk-container-id-1 div.sk-parallel-item:only-child::after {width: 0;}#sk-container-id-1 div.sk-dashed-wrapped {border: 1px dashed gray;margin: 0 0.4em 0.5em 0.4em;box-sizing: border-box;padding-bottom: 0.4em;background-color: white;}#sk-container-id-1 div.sk-label label {font-family: monospace;font-weight: bold;display: inline-block;line-height: 1.2em;}#sk-container-id-1 div.sk-label-container {text-align: center;}#sk-container-id-1 div.sk-container {/* jupyter's `normalize.less` sets `[hidden] { display: none; }` but bootstrap.min.css set `[hidden] { display: none !important; }` so we also need the `!important` here to be able to override the default hidden behavior on the sphinx rendered scikit-learn.org. See: https://github.com/scikit-learn/scikit-learn/issues/21755 */display: inline-block !important;position: relative;}#sk-container-id-1 div.sk-text-repr-fallback {display: none;}</style><div id=\"sk-container-id-1\" class=\"sk-top-container\"><div class=\"sk-text-repr-fallback\"><pre>RandomForestClassifier(random_state=42)</pre><b>In a Jupyter environment, please rerun this cell to show the HTML representation or trust the notebook. <br />On GitHub, the HTML representation is unable to render, please try loading this page with nbviewer.org.</b></div><div class=\"sk-container\" hidden><div class=\"sk-item\"><div class=\"sk-estimator sk-toggleable\"><input class=\"sk-toggleable__control sk-hidden--visually\" id=\"sk-estimator-id-1\" type=\"checkbox\" checked><label for=\"sk-estimator-id-1\" class=\"sk-toggleable__label sk-toggleable__label-arrow\">RandomForestClassifier</label><div class=\"sk-toggleable__content\"><pre>RandomForestClassifier(random_state=42)</pre></div></div></div></div></div>"
      ],
      "text/plain": [
       "RandomForestClassifier(random_state=42)"
      ]
     },
     "execution_count": 34,
     "metadata": {},
     "output_type": "execute_result"
    }
   ],
   "source": [
    "%%time\n",
    "\n",
    "# Define Hyperparameter Grid\n",
    "param_grid = {\n",
    "    'n_estimators': [100],\n",
    "    'max_depth': [None, 10],\n",
    "    'min_samples_split': [2],\n",
    "    'min_samples_leaf': [1]\n",
    "}\n",
    "# param_grid = {\n",
    "#     'n_estimators': [100, 200],\n",
    "#     'max_depth': [None, 10, 20],\n",
    "#     'min_samples_split': [2, 5],\n",
    "#     'min_samples_leaf': [1, 2]\n",
    "# }\n",
    "\n",
    "# Perform Cross-Validation and Grid Search\n",
    "rf_classifier = RandomForestClassifier(random_state=42)\n",
    "grid_search = GridSearchCV(estimator=rf_classifier, param_grid=param_grid, cv=3, scoring='f1', n_jobs=-1,verbose=2, )\n",
    "grid_search.fit(X_train_smote, y_train_smote)\n",
    "\n",
    "# Get the Best Model and Parameters\n",
    "best_rf_classifier = grid_search.best_estimator_\n",
    "best_params = grid_search.best_params_\n",
    "print(\"Best Parameters:\", best_params)\n",
    "\n",
    "# Train the Final Model with Optimized Hyperparameters\n",
    "best_rf_classifier.fit(X_train_smote, y_train_smote)"
   ]
  },
  {
   "cell_type": "code",
   "execution_count": 35,
   "id": "18702709",
   "metadata": {},
   "outputs": [],
   "source": [
    "# Evaluate the best model\n",
    "y_pred = best_rf_classifier.predict(X_test)\n",
    "y_prob = best_rf_classifier.predict_proba(X_test)[:, 1]"
   ]
  },
  {
   "cell_type": "code",
   "execution_count": 36,
   "id": "5a233273",
   "metadata": {},
   "outputs": [
    {
     "name": "stdout",
     "output_type": "stream",
     "text": [
      "Best Hyperparameters:\n",
      " {'max_depth': None, 'min_samples_leaf': 1, 'min_samples_split': 2, 'n_estimators': 100}\n"
     ]
    }
   ],
   "source": [
    "# Print the best hyperparameters\n",
    "print(\"Best Hyperparameters:\\n\", best_params)"
   ]
  },
  {
   "cell_type": "code",
   "execution_count": 37,
   "id": "d50a1694",
   "metadata": {},
   "outputs": [
    {
     "name": "stdout",
     "output_type": "stream",
     "text": [
      "Classification Report:\n",
      "               precision    recall  f1-score   support\n",
      "\n",
      "           0       0.99      0.98      0.98    117625\n",
      "           1       0.98      0.99      0.98    117353\n",
      "\n",
      "    accuracy                           0.98    234978\n",
      "   macro avg       0.98      0.98      0.98    234978\n",
      "weighted avg       0.98      0.98      0.98    234978\n",
      "\n"
     ]
    }
   ],
   "source": [
    "# Model Evaluation\n",
    "print(\"Classification Report:\\n\", classification_report(y_test, y_pred))"
   ]
  },
  {
   "cell_type": "code",
   "execution_count": 38,
   "id": "b62f2cf5",
   "metadata": {},
   "outputs": [
    {
     "name": "stdout",
     "output_type": "stream",
     "text": [
      "Confusion Matrix:\n",
      " [[114737   2888]\n",
      " [   980 116373]]\n"
     ]
    }
   ],
   "source": [
    "# Confusion matrix\n",
    "cm = confusion_matrix(y_test, y_pred)\n",
    "print(\"Confusion Matrix:\\n\", cm)"
   ]
  },
  {
   "cell_type": "code",
   "execution_count": 39,
   "id": "9c8787ee",
   "metadata": {},
   "outputs": [
    {
     "data": {
      "image/png": "[encoded data removed]",
      "text/plain": [
       "<Figure size 1000x700 with 2 Axes>"
      ]
     },
     "metadata": {},
     "output_type": "display_data"
    }
   ],
   "source": [
    "# Plotting confusion matrix\n",
    "plt.figure(figsize=(10, 7))\n",
    "sns.heatmap(cm, annot=True, fmt='d', cmap='Blues', xticklabels=['Non-Fraud', 'Fraud'], yticklabels=['Non-Fraud', 'Fraud'])\n",
    "plt.title('Confusion Matrix')\n",
    "plt.xlabel('Predicted Label')\n",
    "plt.ylabel('True Label')\n",
    "plt.show()"
   ]
  },
  {
   "cell_type": "code",
   "execution_count": 40,
   "id": "9e0d3ac9",
   "metadata": {},
   "outputs": [],
   "source": [
    "# Calculate ROC AUC score\n",
    "roc_auc = roc_auc_score(y_test, y_prob)"
   ]
  },
  {
   "cell_type": "code",
   "execution_count": 41,
   "id": "ee3f5a08",
   "metadata": {},
   "outputs": [
    {
     "name": "stdout",
     "output_type": "stream",
     "text": [
      "ROC AUC Score: 0.9981411728583715\n"
     ]
    }
   ],
   "source": [
    "# Print ROC AUC score\n",
    "print(\"ROC AUC Score:\", roc_auc)"
   ]
  },
  {
   "cell_type": "code",
   "execution_count": 42,
   "id": "0f1b7260",
   "metadata": {},
   "outputs": [
    {
     "data": {
      "image/png": "[encoded data removed]",
      "text/plain": [
       "<Figure size 1000x700 with 1 Axes>"
      ]
     },
     "metadata": {},
     "output_type": "display_data"
    }
   ],
   "source": [
    "# Plot ROC curve\n",
    "roc_curve(y_test, y_prob)\n",
    "fpr, tpr, _ = roc_curve(y_test, y_prob)\n",
    "plt.figure(figsize=(10, 7))\n",
    "plt.plot(fpr, tpr, color='blue', lw=2, label=f'ROC Curve (area = {roc_auc:.2f})')\n",
    "plt.plot([0, 1], [0, 1], color='red', lw=2, linestyle='--')\n",
    "plt.xlim([0.0, 1.0])\n",
    "plt.ylim([0.0, 1.05])\n",
    "plt.xlabel('False Positive Rate')\n",
    "plt.ylabel('True Positive Rate')\n",
    "plt.title('Receiver Operating Characteristic (ROC) Curve')\n",
    "plt.legend(loc=\"lower right\")\n",
    "plt.show()"
   ]
  },
  {
   "cell_type": "code",
   "execution_count": null,
   "id": "2faf4bfa",
   "metadata": {},
   "outputs": [],
   "source": []
  },
  {
   "cell_type": "code",
   "execution_count": 43,
   "id": "2d4379d4",
   "metadata": {},
   "outputs": [],
   "source": [
    "# Save the Optimized Model\n",
    "import pickle\n",
    "\n",
    "with open('optimized_random_forest_model.pkl', 'wb') as file:\n",
    "    pickle.dump(best_rf_classifier, file)"
   ]
  },
  {
   "cell_type": "markdown",
   "id": "4b49aed3",
   "metadata": {},
   "source": [
    "# Make recommendations based on the model evaluation"
   ]
  },
  {
   "cell_type": "code",
   "execution_count": 44,
   "id": "a149594f",
   "metadata": {},
   "outputs": [
    {
     "name": "stdout",
     "output_type": "stream",
     "text": [
      "\n",
      "Recommendations and Key Outcomes:\n",
      "Model: RandomForestClassifier\n",
      "Best Hyperparameters: {'bootstrap': True, 'ccp_alpha': 0.0, 'class_weight': None, 'criterion': 'gini', 'max_depth': None, 'max_features': 'sqrt', 'max_leaf_nodes': None, 'max_samples': None, 'min_impurity_decrease': 0.0, 'min_samples_leaf': 1, 'min_samples_split': 2, 'min_weight_fraction_leaf': 0.0, 'n_estimators': 100, 'n_jobs': None, 'oob_score': False, 'random_state': 42, 'verbose': 0, 'warm_start': False}\n",
      "Key Findings:\n",
      " - The model achieved a high F1 score indicating good overall performance.\n",
      " - The confusion matrix provides insights into the model's ability to correctly classify fraud and non-fraud cases.\n",
      "Business Implications:\n",
      " - Implementing this model can significantly improve fraud detection accuracy.\n",
      " - Monitoring the model performance and retraining periodically with new data is essential to maintain accuracy.\n",
      " - Consider further tuning and exploring other advanced models for potentially better performance.\n"
     ]
    }
   ],
   "source": [
    "def create_recommendations(best_classifier):\n",
    "    recommendations = {\n",
    "        \"Model\": \"RandomForestClassifier\",\n",
    "        \"Best Hyperparameters\": best_classifier.get_params(),\n",
    "        \"Key Findings\": [\n",
    "            \"The model achieved a high F1 score indicating good overall performance.\",\n",
    "            \"The confusion matrix provides insights into the model's ability to correctly classify fraud and non-fraud cases.\",\n",
    "        ],\n",
    "        \"Business Implications\": [\n",
    "            \"Implementing this model can significantly improve fraud detection accuracy.\",\n",
    "            \"Monitoring the model performance and retraining periodically with new data is essential to maintain accuracy.\",\n",
    "            \"Consider further tuning and exploring other advanced models for potentially better performance.\",\n",
    "        ]\n",
    "    }\n",
    "    return recommendations\n",
    "\n",
    "# Create recommendations\n",
    "recommendations = create_recommendations(best_rf_classifier)\n",
    "\n",
    "# Print recommendations\n",
    "print(\"\\nRecommendations and Key Outcomes:\")\n",
    "for key, value in recommendations.items():\n",
    "    if isinstance(value, list):\n",
    "        print(f\"{key}:\")\n",
    "        for item in value:\n",
    "            print(f\" - {item}\")\n",
    "    else:\n",
    "        print(f\"{key}: {value}\")\n"
   ]
  },
  {
   "cell_type": "markdown",
   "id": "46f4bf93",
   "metadata": {},
   "source": [
    "# CONCLUSION"
   ]
  },
  {
   "cell_type": "markdown",
   "id": "f10e7256",
   "metadata": {},
   "source": [
    "### Project Objective\n",
    "\n",
    "In this case study,  aimed to develop a predictive model to accurately identify fraudulent credit card transactions using a given dataset. The key steps and findings of the task can be summarized as follows:\n",
    "\n",
    "**GOAL** \n",
    "    - The goal of this project was to build a robust machine learning model to accurately detect fraudulent transactions. After evaluating multiple models, the Random Forest classifier was chosen for its superior performance, particularly when combined with SMOTE (Synthetic Minority Over-sampling Technique) to address class imbalance\n",
    "\n",
    "**1. Data Preprocessing:**\n",
    "   - Handled missing values and encoded categorical variables appropriately.\n",
    "   - Split the dataset into features (independent variables) and the target variable (Fraud).\n",
    "\n",
    "**2. Exploratory Data Analysis (EDA):**\n",
    "   - Analyzed the distribution of the target variable and identified a significant class imbalance, with a very small proportion of transactions labeled as fraudulent.\n",
    "   - Explored the distribution of features and their relationships with the target variable.\n",
    "\n",
    "**3. Feature Engineering:**\n",
    "   - Created new relevant features and normalized numerical features to improve model performance.\n",
    "\n",
    "**4. Model Selection and Evaluation:**\n",
    "   - Trained and evaluated multiple machine learning models, including Logistic Regression, Random Forest, Gradient Boosting, and Neural Networks.\n",
    "   - Addressed the class imbalance using SMOTE (Synthetic Minority Over-sampling Technique).\n",
    "\n",
    "**5. Key Findings:**\n",
    "   - Models trained on data without addressing the class imbalance performed poorly in terms of F1 score, due to the overwhelming number of benign transactions.\n",
    "   - Applying SMOTE significantly improved the performance of all models. The F1 scores increased notably, indicating better detection of fraudulent transactions.\n",
    "   - Among all models, the Random Forest Classifier with SMOTE achieved the highest F1 score (0.983621), making it the most effective model for this task.\n",
    "   \n",
    "**6. Optimization:**\n",
    "   -  The selected Random Forest model was further optimized using Grid Search Cross-Validation (GridSearchCV). This process involved fine-tuning hyperparameters to maximize the model's performance.\n",
    "  \n",
    "      - Key Hyperparameters Tuned:\n",
    "\n",
    "            n_estimators: Number of trees in the forest.\n",
    "            max_depth: Maximum depth of the tree.\n",
    "            min_samples_split: Minimum number of samples required to split an internal node.\n",
    "            min_samples_leaf: Minimum number of samples required to be at a leaf node.\n",
    "            Grid Search Results:\n",
    "            The best combination of hyperparameters was identified through Grid Search, and the optimized model achieved an impressive ROC AUC Score of 0.99.\n",
    "    \n",
    "**7. Model Evaluation:**\n",
    "   -  The ROC AUC score is a crucial metric for evaluating the performance of a classification model, especially in imbalanced datasets like fraud detection. It represents the area under the Receiver Operating Characteristic (ROC) curve and provides an aggregate measure of performance across all classification thresholds.\n",
    "\n",
    "- Interpreting the ROC AUC Score:\n",
    "\n",
    "    0.5 - The model's performance is equivalent to random guessing.\n",
    "    1.0 - The model perfectly distinguishes between fraudulent and non-fraudulent transactions.\n",
    "    0.99 - An ROC AUC score of 0.99 indicates excellent discriminatory power, meaning the model is highly effective at distinguishing between fraudulent and non-fraudulent transactions.\n",
    "\n",
    "**8. Evaluation Metrics:**\n",
    "- In addition to the ROC AUC score, the optimized model's performance was further assessed using various metrics:\n",
    "\n",
    "    - Precision: The proportion of true positive predictions among all positive predictions.\n",
    "    - Recall: The proportion of true positive predictions among all actual positives.\n",
    "    - F1 Score: The harmonic mean of precision and recall, providing a single metric to evaluate the balance between them.\n",
    "    - Confusion Matrix: A summary of prediction results, showing the number of true positives, true negatives, false positives, and false negatives.\n",
    "\n",
    "**9. Key Findings and Business Implications:**\n",
    "   \n",
    "   - High ROC AUC Score: The model's high ROC AUC score reflects its ability to effectively distinguish between fraudulent and legitimate transactions.\n",
    "   \n",
    "   - Precision-Recall Balance: The balance between precision and recall ensures that the model minimizes false positives (non-fraudulent transactions flagged as fraudulent) while maximizing the detection of actual fraudulent transactions.\n",
    "  \n",
    "  - Confusion Matrix Insights: The confusion matrix provides insights into the model's accuracy and the types of errors it makes, aiding in further refinements and understanding of model performance.\n",
    "\n",
    "  - Business Benefits:\n",
    "       - Improved Fraud Detection: By implementing this model, the organization can significantly enhance its fraud detection capabilities.\n",
    "       - Reduced False Alarms: Higher precision leads to fewer false alarms, improving customer experience.\n",
    "       - Minimized Financial Losses: Higher recall ensures that most fraudulent transactions are detected, reducing potential financial losses.\n",
    "\n",
    "\n",
    "**10. Recommendations:**\n",
    "   - Implement the Random Forest Classifier with SMOTE in a real-time fraud detection system to enhance the accuracy of identifying fraudulent transactions.\n",
    "   - Continuously monitor and retrain the model to adapt to new patterns of fraudulent activity and maintain high performance over time.\n",
    "\n",
    "**CONCLUDE:**\n",
    "\n",
    "This task successfully demonstrated the importance of addressing class imbalance in fraud detection tasks. By applying SMOTE, and significantly improved the models' ability to detect fraudulent transactions. The Random Forest Classifier with SMOTE emerged as the best-performing model, offering a robust solution for real-time fraud detection. This approach not only enhances the accuracy but also provides a scalable method to keep up with evolving fraud patterns, ensuring the reliability and security of financial transactions."
   ]
  },
  {
   "cell_type": "markdown",
   "id": "114d1751",
   "metadata": {},
   "source": [
    "# Additional Steps for comprehesive coverage"
   ]
  },
  {
   "cell_type": "markdown",
   "id": "7353c266",
   "metadata": {},
   "source": [
    "**Feature Importance:**\n",
    "\n",
    "    -Analyze the importance of each feature in the Random Forest model. This can provide insights into which features contribute most to the model's predictions.\n",
    "\n",
    "**Cross-Validation:**\n",
    "\n",
    "    -Ensure that cross-validation was performed correctly. This can help validate the model's performance across different subsets of the data.\n",
    "\n",
    "**Model Explainability:**\n",
    "\n",
    "    -Use tools like SHAP (SHapley Additive exPlanations) or LIME (Local Interpretable Model-agnostic Explanations) to explain the model's predictions. This can be crucial for gaining trust from stakeholders."
   ]
  },
  {
   "cell_type": "code",
   "execution_count": null,
   "id": "358f7047",
   "metadata": {},
   "outputs": [],
   "source": []
  },
  {
   "cell_type": "code",
   "execution_count": null,
   "id": "868301c6",
   "metadata": {},
   "outputs": [],
   "source": []
  }
 ],
 "metadata": {
  "kernelspec": {
   "display_name": "Python 3 (ipykernel)",
   "language": "python",
   "name": "python3"
  },
  "language_info": {
   "codemirror_mode": {
    "name": "ipython",
    "version": 3
   },
   "file_extension": ".py",
   "mimetype": "text/x-python",
   "name": "python",
   "nbconvert_exporter": "python",
   "pygments_lexer": "ipython3",
   "version": "3.9.13"
  }
 },
 "nbformat": 4,
 "nbformat_minor": 5
}
